{
 "cells": [
  {
   "cell_type": "code",
   "execution_count": 1,
   "id": "cc8fcd79-0289-4296-b429-f7571c7e4113",
   "metadata": {},
   "outputs": [],
   "source": [
    "from attack import Attack\n",
    "from os import path, walk\n",
    "from json import dumps, loads\n",
    "from dataclasses import dataclass, field\n",
    "from defend import DTechnique, DSystem, Defend"
   ]
  },
  {
   "cell_type": "code",
   "execution_count": 2,
   "id": "d8d29578-b9a8-472f-b5e3-e4160fbeff23",
   "metadata": {},
   "outputs": [],
   "source": [
    "at = Attack(local=True)"
   ]
  },
  {
   "cell_type": "code",
   "execution_count": 3,
   "id": "47ad9cb8-c693-474a-8fc8-da7f2c431736",
   "metadata": {},
   "outputs": [],
   "source": [
    "de = Defend(at)"
   ]
  },
  {
   "cell_type": "code",
   "execution_count": 4,
   "id": "c69a14f3-4c3d-4e90-9b02-d382caea674e",
   "metadata": {},
   "outputs": [],
   "source": [
    "av1 = de.techniques['D.AV.1']"
   ]
  },
  {
   "cell_type": "code",
   "execution_count": 10,
   "id": "d5bb7f55-fa9a-4868-b516-642ddc451453",
   "metadata": {},
   "outputs": [],
   "source": [
    "av1.scope['countries'].append('Turkey')"
   ]
  },
  {
   "cell_type": "code",
   "execution_count": 13,
   "id": "e6237a1b-d622-4d6a-8cdf-bfef9eeaa4b7",
   "metadata": {},
   "outputs": [],
   "source": [
    "av1.write( de.attack.cfg.defend_techniques )"
   ]
  },
  {
   "cell_type": "code",
   "execution_count": 5,
   "id": "dc60a3c1-21cf-40cf-9e74-cc077763913a",
   "metadata": {},
   "outputs": [
    {
     "name": "stdout",
     "output_type": "stream",
     "text": [
      "{\n",
      "    \"id\": \"D.AV.1\",\n",
      "    \"name\": \"Mimikatz has been blocked\",\n",
      "    \"system\": \"Antivirus\",\n",
      "    \"type\": \"Defense Technique\",\n",
      "    \"intid\": 1,\n",
      "    \"filename\": \"Mimikatz-has-been-blocked.json\",\n",
      "    \"description\": \"detection description\",\n",
      "    \"created\": \"2022-03-13\",\n",
      "    \"severity\": \"critical\",\n",
      "    \"fpratio\": 0,\n",
      "    \"tags\": [\n",
      "        \"DEV: Hunters\",\n",
      "        \"Credential Access\"\n",
      "    ],\n",
      "    \"references\": [\n",
      "        \"http://cvesite.com\"\n",
      "    ],\n",
      "    \"detects\": {\n",
      "        \"T1003\": {\n",
      "            \"accuracy\": \"high\"\n",
      "        }\n",
      "    },\n",
      "    \"uses\": [\n",
      "        \"Process: Process Access\"\n",
      "    ],\n",
      "    \"scope\": {\n",
      "        \"countries\": [\n",
      "            \"Germany\",\n",
      "            \"Turkey\"\n",
      "        ],\n",
      "        \"clients\": [\n",
      "            \"Client-E\",\n",
      "            \"Client-F\"\n",
      "        ],\n",
      "        \"systems\": [\n",
      "            \"windows\"\n",
      "        ]\n",
      "    }\n",
      "}\n"
     ]
    }
   ],
   "source": [
    "print(av1)"
   ]
  },
  {
   "cell_type": "code",
   "execution_count": null,
   "id": "075b700d-509c-4f2f-9347-7763d1a08ef6",
   "metadata": {},
   "outputs": [],
   "source": [
    "\n"
   ]
  },
  {
   "cell_type": "code",
   "execution_count": 63,
   "id": "1ce4b310-39c7-4d6a-8f34-74d6cf1cdc00",
   "metadata": {},
   "outputs": [],
   "source": [
    "dt.write()"
   ]
  },
  {
   "cell_type": "code",
   "execution_count": 67,
   "id": "ba3ba846-835d-4200-a2c4-eca2d332bbff",
   "metadata": {},
   "outputs": [],
   "source": [
    "ds.write()"
   ]
  },
  {
   "cell_type": "code",
   "execution_count": 20,
   "id": "bc4c0157-7e38-45a1-a18c-42827f30e3c8",
   "metadata": {},
   "outputs": [],
   "source": [
    "# Load Defense Systems\n",
    "DSystems = {}\n",
    "for root, subdirectories, files in walk('./DSystems'):\n",
    "    for file in files:\n",
    "        if file[-5:] == \".json\":\n",
    "            filename = path.join(root, file)\n",
    "            with open(filename, 'r') as fobj:\n",
    "                data = loads(fobj.read())\n",
    "                fobj.close()\n",
    "                DSystems.update({\n",
    "                    data['id']: DSystem(**data)\n",
    "                })\n",
    "            "
   ]
  },
  {
   "cell_type": "code",
   "execution_count": 23,
   "id": "e55bbda4-adf4-473d-a79a-815aecfd4cbe",
   "metadata": {},
   "outputs": [],
   "source": [
    "av = DSystems.get('AV')"
   ]
  },
  {
   "cell_type": "code",
   "execution_count": null,
   "id": "97d03399-a9f8-48a5-bfa2-f3456c01f609",
   "metadata": {},
   "outputs": [],
   "source": []
  },
  {
   "cell_type": "code",
   "execution_count": null,
   "id": "c8993a74-1230-42fe-a874-0923fbb31f22",
   "metadata": {},
   "outputs": [],
   "source": []
  }
 ],
 "metadata": {
  "kernelspec": {
   "display_name": "Python 3 (ipykernel)",
   "language": "python",
   "name": "python3"
  },
  "language_info": {
   "codemirror_mode": {
    "name": "ipython",
    "version": 3
   },
   "file_extension": ".py",
   "mimetype": "text/x-python",
   "name": "python",
   "nbconvert_exporter": "python",
   "pygments_lexer": "ipython3",
   "version": "3.10.4"
  }
 },
 "nbformat": 4,
 "nbformat_minor": 5
}
