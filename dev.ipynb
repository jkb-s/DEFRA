{
 "cells": [
  {
   "cell_type": "code",
   "execution_count": 44,
   "id": "cc8fcd79-0289-4296-b429-f7571c7e4113",
   "metadata": {},
   "outputs": [],
   "source": [
    "from attack import Attack\n",
    "from os import path\n",
    "from json import dumps, loads"
   ]
  },
  {
   "cell_type": "code",
   "execution_count": 6,
   "id": "d8d29578-b9a8-472f-b5e3-e4160fbeff23",
   "metadata": {},
   "outputs": [],
   "source": [
    "at = Attack()"
   ]
  },
  {
   "cell_type": "code",
   "execution_count": null,
   "id": "47ad9cb8-c693-474a-8fc8-da7f2c431736",
   "metadata": {},
   "outputs": [],
   "source": []
  },
  {
   "cell_type": "code",
   "execution_count": 9,
   "id": "c69a14f3-4c3d-4e90-9b02-d382caea674e",
   "metadata": {},
   "outputs": [],
   "source": [
    "from dataclasses import dataclass, field"
   ]
  },
  {
   "cell_type": "code",
   "execution_count": 65,
   "id": "d5bb7f55-fa9a-4868-b516-642ddc451453",
   "metadata": {},
   "outputs": [],
   "source": [
    "@dataclass\n",
    "class DTechnique:\n",
    "    name: str\n",
    "    id: str\n",
    "    system: str\n",
    "    description: str = \"\"\n",
    "    tags: list = field(default_factory=list)\n",
    "    references: list = field(default_factory=list)\n",
    "    detects: dict = field(default_factory=dict)\n",
    "    uses: list = field(default_factory=list)\n",
    "    scope: dict = field(default_factory=dict)\n",
    "    \n",
    "    def __post_init__(self):\n",
    "        self.intid = int(self.id.split('.')[-1])\n",
    "        self.filename = self.name.replace(' ', '-').replace('\\\\', '').replace('/', '') + \".json\"\n",
    "        \n",
    "    def write(self):\n",
    "        filepath = path.join(self.id.split('.')[1], self.filename)\n",
    "        with open(filepath, 'w+') as file:\n",
    "            file.write(dumps(self.__dict__, indent=4))\n",
    "            file.close()\n",
    "    \n",
    "@dataclass\n",
    "class DSystem:\n",
    "    id: str\n",
    "    name: str\n",
    "    description: str = \"\"\n",
    "    top_id: int = 0\n",
    "    data_sources: list = field(default_factory=list)\n",
    "    \n",
    "    def get_top_index(self):\n",
    "        return self.top_id\n",
    "    \n",
    "    # update top index\n",
    "    def set_top_index(self, top=None):\n",
    "        if top:\n",
    "            self.top_id = top\n",
    "        else:\n",
    "            self.top_id += 1\n",
    "    \n",
    "    def write(self):\n",
    "        filepath = (self.id + \".json\")\n",
    "        with open(filepath, 'w+') as file:\n",
    "            file.write(dumps(self.__dict__, indent=4))\n",
    "            file.close()"
   ]
  },
  {
   "cell_type": "code",
   "execution_count": 60,
   "id": "dc60a3c1-21cf-40cf-9e74-cc077763913a",
   "metadata": {},
   "outputs": [],
   "source": [
    "dt = DTechnique(\n",
    "        name = \"Very First Defense Technique\",\n",
    "        id = \"D.EDR.1\",\n",
    "        description=\"desc\",\n",
    "        system = \"Endpoint Detection and Response\"\n",
    "    )"
   ]
  },
  {
   "cell_type": "code",
   "execution_count": 66,
   "id": "075b700d-509c-4f2f-9347-7763d1a08ef6",
   "metadata": {},
   "outputs": [],
   "source": [
    "ds = DSystem(\n",
    "        id = \"EDR\",\n",
    "        name = \"Endpoint Detection and Response\",\n",
    "        data_sources = ['Process', \"File\", \"Command\", \"Windows Registry\"]\n",
    "    )\n",
    "\n"
   ]
  },
  {
   "cell_type": "code",
   "execution_count": 63,
   "id": "1ce4b310-39c7-4d6a-8f34-74d6cf1cdc00",
   "metadata": {},
   "outputs": [],
   "source": [
    "dt.write()"
   ]
  },
  {
   "cell_type": "code",
   "execution_count": 67,
   "id": "ba3ba846-835d-4200-a2c4-eca2d332bbff",
   "metadata": {},
   "outputs": [],
   "source": [
    "ds.write()"
   ]
  },
  {
   "cell_type": "code",
   "execution_count": null,
   "id": "bc4c0157-7e38-45a1-a18c-42827f30e3c8",
   "metadata": {},
   "outputs": [],
   "source": []
  }
 ],
 "metadata": {
  "kernelspec": {
   "display_name": "Python 3 (ipykernel)",
   "language": "python",
   "name": "python3"
  },
  "language_info": {
   "codemirror_mode": {
    "name": "ipython",
    "version": 3
   },
   "file_extension": ".py",
   "mimetype": "text/x-python",
   "name": "python",
   "nbconvert_exporter": "python",
   "pygments_lexer": "ipython3",
   "version": "3.10.4"
  }
 },
 "nbformat": 4,
 "nbformat_minor": 5
}
