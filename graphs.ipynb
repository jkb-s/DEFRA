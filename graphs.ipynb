{
 "cells": [
  {
   "cell_type": "code",
   "execution_count": 4,
   "id": "2a805d81-736d-4625-8a7d-fbf39d755160",
   "metadata": {
    "tags": []
   },
   "outputs": [],
   "source": [
    "import math\n",
    "from os import path, walk\n",
    "from json import dumps, loads\n",
    "from pyvis.network import Network\n",
    "from dataclasses import dataclass, field\n",
    "\n",
    "from attack import Attack\n",
    "from defend import DTechnique, DSystem, Defend"
   ]
  },
  {
   "cell_type": "code",
   "execution_count": 5,
   "id": "16e3903d-955f-4f79-a689-4ac51c44340d",
   "metadata": {
    "tags": []
   },
   "outputs": [],
   "source": [
    "d = Defend(Attack(local=True))"
   ]
  },
  {
   "cell_type": "code",
   "execution_count": 28,
   "id": "9f0e45b0-1556-4860-b6ec-5e10818e3953",
   "metadata": {
    "tags": []
   },
   "outputs": [
    {
     "name": "stdout",
     "output_type": "stream",
     "text": [
      "Warning: When  cdn_resources is 'local' jupyter notebook has issues displaying graphics on chrome/safari. Use cdn_resources='in_line' or cdn_resources='remote' if you have issues viewing graphics in a notebook.\n"
     ]
    }
   ],
   "source": [
    "Out = './Poligon'\n",
    "net = Network(notebook=True, height='1000px', width='1200px', select_menu=False, filter_menu=True, heading='A')"
   ]
  },
  {
   "cell_type": "code",
   "execution_count": 29,
   "id": "c7f6ab1e-ef57-473d-8093-553db97c0769",
   "metadata": {},
   "outputs": [],
   "source": [
    "net.add_node('A', color='#FFF')"
   ]
  },
  {
   "cell_type": "code",
   "execution_count": 30,
   "id": "4b98ca62-0b9c-4335-9b26-c052804fdd2f",
   "metadata": {
    "tags": []
   },
   "outputs": [
    {
     "name": "stdout",
     "output_type": "stream",
     "text": [
      "Test.html\n"
     ]
    },
    {
     "data": {
      "text/html": [
       "\n",
       "        <iframe\n",
       "            width=\"1200px\"\n",
       "            height=\"1000px\"\n",
       "            src=\"Test.html\"\n",
       "            frameborder=\"0\"\n",
       "            allowfullscreen\n",
       "            \n",
       "        ></iframe>\n",
       "        "
      ],
      "text/plain": [
       "<IPython.lib.display.IFrame at 0x7fd7ba720290>"
      ]
     },
     "execution_count": 30,
     "metadata": {},
     "output_type": "execute_result"
    }
   ],
   "source": [
    "net.show('Test.html')"
   ]
  },
  {
   "cell_type": "code",
   "execution_count": null,
   "id": "8867dc02-134e-40ba-b3cb-abc5ac7d5562",
   "metadata": {},
   "outputs": [],
   "source": []
  }
 ],
 "metadata": {
  "kernelspec": {
   "display_name": "Python 3 (ipykernel)",
   "language": "python",
   "name": "python3"
  },
  "language_info": {
   "codemirror_mode": {
    "name": "ipython",
    "version": 3
   },
   "file_extension": ".py",
   "mimetype": "text/x-python",
   "name": "python",
   "nbconvert_exporter": "python",
   "pygments_lexer": "ipython3",
   "version": "3.11.3"
  }
 },
 "nbformat": 4,
 "nbformat_minor": 5
}
