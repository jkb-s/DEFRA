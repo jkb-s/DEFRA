{
 "cells": [
  {
   "cell_type": "code",
   "execution_count": 1,
   "id": "2a805d81-736d-4625-8a7d-fbf39d755160",
   "metadata": {
    "tags": []
   },
   "outputs": [],
   "source": [
    "import math\n",
    "from os import path, walk\n",
    "from json import dumps, loads\n",
    "from pyvis.network import Network\n",
    "from dataclasses import dataclass, field\n",
    "\n",
    "from attack import Attack\n",
    "from defend import DTechnique, DSystem, Defend\n",
    "from types import SimpleNamespace"
   ]
  },
  {
   "cell_type": "code",
   "execution_count": 2,
   "id": "16e3903d-955f-4f79-a689-4ac51c44340d",
   "metadata": {
    "tags": []
   },
   "outputs": [],
   "source": [
    "d = Defend(Attack(local=True))\n",
    "\n",
    "graph_config = {\n",
    "    'tactic': {\n",
    "        'mass': 100,\n",
    "        'size': 100,\n",
    "        'color': '#C00'\n",
    "    },\n",
    "    'technique': {\n",
    "        'mass': 50,\n",
    "        'size': 50,\n",
    "        'color': '#C77'\n",
    "    },\n",
    "    'subtechnique': {\n",
    "        'mass': 20,\n",
    "        'size': 20,\n",
    "        'color': '#A66'\n",
    "    },\n",
    "}\n",
    "gconf = SimpleNamespace(**graph_config)"
   ]
  },
  {
   "cell_type": "code",
   "execution_count": 3,
   "id": "488bc44c-0008-4f62-93cf-fe1098cd8c94",
   "metadata": {
    "tags": []
   },
   "outputs": [],
   "source": [
    "def add_node(net, name, config):\n",
    "    net.add_node(name, **config)"
   ]
  },
  {
   "cell_type": "code",
   "execution_count": 21,
   "id": "9f0e45b0-1556-4860-b6ec-5e10818e3953",
   "metadata": {
    "tags": []
   },
   "outputs": [
    {
     "name": "stdout",
     "output_type": "stream",
     "text": [
      "Warning: When  cdn_resources is 'local' jupyter notebook has issues displaying graphics on chrome/safari. Use cdn_resources='in_line' or cdn_resources='remote' if you have issues viewing graphics in a notebook.\n"
     ]
    }
   ],
   "source": [
    "Out = './Poligon'\n",
    "\n",
    "net = Network(notebook=True, height='1000px', width='1200px', bgcolor='#000', select_menu=False, filter_menu=False, font_color='#FFF')"
   ]
  },
  {
   "cell_type": "code",
   "execution_count": 22,
   "id": "c7f6ab1e-ef57-473d-8093-553db97c0769",
   "metadata": {
    "tags": []
   },
   "outputs": [],
   "source": [
    "# Tactics\n",
    "prev = None\n",
    "for tac in d.attack.cfg.tactics_order:\n",
    "    net.add_node(tac, label=tac.replace('-', ' ').title(), **gconf.tactic)\n",
    "    if prev:\n",
    "        net.add_edge(prev, tac)\n",
    "    prev = tac"
   ]
  },
  {
   "cell_type": "code",
   "execution_count": 23,
   "id": "e245b809-5bb5-4d36-beb7-181f32798237",
   "metadata": {
    "tags": []
   },
   "outputs": [],
   "source": [
    "for tech in d.attack.techniques:\n",
    "    tac = d.attack.techniques[tech].tactics[0]\n",
    "    \n",
    "    parent = d.attack.techniques[tech].get_parent()\n",
    "    \n",
    "    if parent and parent not in net.node_ids:\n",
    "        parent_tac = d.attack.techniques[parent].tactics[0]\n",
    "        net.add_node(parent, label= d.attack.get_name_by_id(parent), **gconf.technique)\n",
    "        #net.add_node(parent, color=gconf.technique['color'], mass=gconf.technique['mass'])\n",
    "        net.add_edge(parent, parent_tac)\n",
    "    \n",
    "    if parent:\n",
    "        net.add_node(tech, label = d.attack.get_name_by_id(tech),  **gconf.subtechnique)\n",
    "        #net.add_node(tech, color=gconf.subtechnique['color'], mass=gconf.subtechnique['mass'])\n",
    "        net.add_edge(tech, parent)\n",
    "    else:\n",
    "        net.add_node(tech, label = d.attack.get_name_by_id(tech), **gconf.technique)\n",
    "        #net.add_node(tech, color=gconf.technique['color'], mass=gconf.technique['mass'])\n",
    "        net.add_edge(tech, tac)"
   ]
  },
  {
   "cell_type": "code",
   "execution_count": 24,
   "id": "337beb6c-2525-4b95-80df-c6b5a40e42db",
   "metadata": {
    "tags": []
   },
   "outputs": [
    {
     "data": {
      "text/plain": [
       "['defense-evasion', 'persistence']"
      ]
     },
     "execution_count": 24,
     "metadata": {},
     "output_type": "execute_result"
    }
   ],
   "source": [
    "d.attack.techniques['T1542'].tactics"
   ]
  },
  {
   "cell_type": "code",
   "execution_count": 27,
   "id": "4b98ca62-0b9c-4335-9b26-c052804fdd2f",
   "metadata": {
    "tags": []
   },
   "outputs": [
    {
     "name": "stdout",
     "output_type": "stream",
     "text": [
      "Test.html\n"
     ]
    },
    {
     "data": {
      "text/html": [
       "\n",
       "        <iframe\n",
       "            width=\"1200px\"\n",
       "            height=\"1000px\"\n",
       "            src=\"Test.html\"\n",
       "            frameborder=\"0\"\n",
       "            allowfullscreen\n",
       "            \n",
       "        ></iframe>\n",
       "        "
      ],
      "text/plain": [
       "<IPython.lib.display.IFrame at 0x2528774bd90>"
      ]
     },
     "execution_count": 27,
     "metadata": {},
     "output_type": "execute_result"
    }
   ],
   "source": [
    "net.show_buttons()\n",
    "net.show('Test.html')"
   ]
  },
  {
   "cell_type": "code",
   "execution_count": null,
   "id": "8867dc02-134e-40ba-b3cb-abc5ac7d5562",
   "metadata": {},
   "outputs": [],
   "source": []
  },
  {
   "cell_type": "code",
   "execution_count": 43,
   "id": "7f78dd3d-5b86-46c3-bd8c-dcdbd7bb4d4b",
   "metadata": {
    "tags": []
   },
   "outputs": [
    {
     "data": {
      "text/plain": [
       "dict_keys(['name', 'description', 'detection', 'data_sources', 'platforms', 'permissions_required', 'defenses_bypassed', 'id', 'tactics', 'references', 'ref'])"
      ]
     },
     "execution_count": 43,
     "metadata": {},
     "output_type": "execute_result"
    }
   ],
   "source": [
    "d.attack.techniques['T1055.011'].__dict__.keys()"
   ]
  },
  {
   "cell_type": "code",
   "execution_count": null,
   "id": "61a2cf2d-09b7-4da7-bcea-93054a041fb3",
   "metadata": {},
   "outputs": [],
   "source": []
  }
 ],
 "metadata": {
  "kernelspec": {
   "display_name": "Python 3 (ipykernel)",
   "language": "python",
   "name": "python3"
  },
  "language_info": {
   "codemirror_mode": {
    "name": "ipython",
    "version": 3
   },
   "file_extension": ".py",
   "mimetype": "text/x-python",
   "name": "python",
   "nbconvert_exporter": "python",
   "pygments_lexer": "ipython3",
   "version": "3.11.5"
  }
 },
 "nbformat": 4,
 "nbformat_minor": 5
}
