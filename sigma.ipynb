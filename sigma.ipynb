{
 "cells": [
  {
   "cell_type": "code",
   "execution_count": 1,
   "id": "2a805d81-736d-4625-8a7d-fbf39d755160",
   "metadata": {
    "tags": []
   },
   "outputs": [],
   "source": [
    "import math\n",
    "from os import path, walk\n",
    "from json import dumps, loads\n",
    "from pyvis.network import Network\n",
    "from dataclasses import dataclass, field\n",
    "\n",
    "from attack import Attack\n",
    "from defend import DTechnique, DSystem, Defend\n",
    "from sigma import Sigma, SigmaRule\n",
    "from types import SimpleNamespace"
   ]
  },
  {
   "cell_type": "code",
   "execution_count": 2,
   "id": "16e3903d-955f-4f79-a689-4ac51c44340d",
   "metadata": {
    "tags": []
   },
   "outputs": [],
   "source": [
    "d = Defend(Attack(local=True))\n",
    "s = Sigma()\n",
    "\n",
    "gconf = SimpleNamespace(**d.attack.cfg.graph)"
   ]
  },
  {
   "cell_type": "code",
   "execution_count": null,
   "id": "488bc44c-0008-4f62-93cf-fe1098cd8c94",
   "metadata": {
    "tags": []
   },
   "outputs": [],
   "source": []
  },
  {
   "cell_type": "code",
   "execution_count": 105,
   "id": "9f0e45b0-1556-4860-b6ec-5e10818e3953",
   "metadata": {
    "tags": []
   },
   "outputs": [
    {
     "name": "stdout",
     "output_type": "stream",
     "text": [
      "Warning: When  cdn_resources is 'local' jupyter notebook has issues displaying graphics on chrome/safari. Use cdn_resources='in_line' or cdn_resources='remote' if you have issues viewing graphics in a notebook.\n"
     ]
    }
   ],
   "source": [
    "Out = './Poligon'\n",
    "\n",
    "net = Network(notebook=True, height='2000px', width='2200px', bgcolor='#000', select_menu=False, filter_menu=False, font_color='#FFF')"
   ]
  },
  {
   "cell_type": "code",
   "execution_count": 106,
   "id": "c7f6ab1e-ef57-473d-8093-553db97c0769",
   "metadata": {
    "tags": []
   },
   "outputs": [],
   "source": [
    "# Tactics\n",
    "prev = None\n",
    "for tac in d.attack.cfg.tactics_order:\n",
    "    net.add_node(tac, phyisics=False,label=tac.replace('-', ' ').title(), **gconf.tactic)\n",
    "    if prev:\n",
    "        net.add_edge(prev, tac)\n",
    "        pass\n",
    "    prev = tac"
   ]
  },
  {
   "cell_type": "code",
   "execution_count": 107,
   "id": "e245b809-5bb5-4d36-beb7-181f32798237",
   "metadata": {
    "tags": []
   },
   "outputs": [],
   "source": [
    "for tech in d.attack.techniques:\n",
    "    tac = d.attack.techniques[tech].tactics[0]\n",
    "    \n",
    "    parent = d.attack.techniques[tech].get_parent()\n",
    "    \n",
    "    if parent and parent not in net.node_ids:\n",
    "        parent_tac = d.attack.techniques[parent].tactics[0]\n",
    "        net.add_node(parent, label= d.attack.get_name_by_id(parent), **gconf.technique)\n",
    "        #net.add_node(parent, color=gconf.technique['color'], mass=gconf.technique['mass'])\n",
    "        net.add_edge(parent, parent_tac)\n",
    "    \n",
    "    if parent:\n",
    "        net.add_node(tech, label = d.attack.get_name_by_id(tech),  **gconf.subtechnique)\n",
    "        #net.add_node(tech, color=gconf.subtechnique['color'], mass=gconf.subtechnique['mass'])\n",
    "        net.add_edge(tech, parent)\n",
    "    else:\n",
    "        net.add_node(tech, label = d.attack.get_name_by_id(tech), **gconf.technique)\n",
    "        #net.add_node(tech, color=gconf.technique['color'], mass=gconf.technique['mass'])\n",
    "        net.add_edge(tech, tac)"
   ]
  },
  {
   "cell_type": "code",
   "execution_count": 49,
   "id": "337beb6c-2525-4b95-80df-c6b5a40e42db",
   "metadata": {
    "tags": []
   },
   "outputs": [
    {
     "data": {
      "text/plain": [
       "['defense-evasion', 'persistence']"
      ]
     },
     "execution_count": 49,
     "metadata": {},
     "output_type": "execute_result"
    }
   ],
   "source": [
    "d.attack.techniques['T1542'].tactics"
   ]
  },
  {
   "cell_type": "code",
   "execution_count": 109,
   "id": "4b98ca62-0b9c-4335-9b26-c052804fdd2f",
   "metadata": {
    "tags": []
   },
   "outputs": [
    {
     "name": "stdout",
     "output_type": "stream",
     "text": [
      "sigma_multinode_3_sev_Crit.html\n"
     ]
    },
    {
     "data": {
      "text/html": [
       "\n",
       "        <iframe\n",
       "            width=\"2200px\"\n",
       "            height=\"2000px\"\n",
       "            src=\"sigma_multinode_3_sev_Crit.html\"\n",
       "            frameborder=\"0\"\n",
       "            allowfullscreen\n",
       "            \n",
       "        ></iframe>\n",
       "        "
      ],
      "text/plain": [
       "<IPython.lib.display.IFrame at 0x1e7de038290>"
      ]
     },
     "execution_count": 109,
     "metadata": {},
     "output_type": "execute_result"
    }
   ],
   "source": [
    "#net.show_buttons()\n",
    "\n",
    "netcfg = \"\"\"{\n",
    "  \"edges\": {\n",
    "    \"color\": {\n",
    "      \"inherit\": true\n",
    "    },\n",
    "    \"selfReference\": {\n",
    "      \"angle\": 0.7853981633974483\n",
    "    },\n",
    "    \"smooth\": {\n",
    "      \"forceDirection\": \"none\"\n",
    "    }\n",
    "  },\n",
    "  \"physics\": {\n",
    "    \"barnesHut\": {\n",
    "      \"centralGravity\": 0.8,\n",
    "      \"springLength\": 30,\n",
    "      \"damping\": 0.21,\n",
    "      \"avoidOverlap\": 0.13\n",
    "    },\n",
    "    \"minVelocity\": 0.75,\n",
    "    \"timestep\": 1\n",
    "  }\n",
    "}\"\"\"\n",
    "net.set_options(netcfg)\n",
    "net.show('sigma_multinode_3_sev_Crit.html')"
   ]
  },
  {
   "cell_type": "code",
   "execution_count": 189,
   "id": "6c00d8d6-5727-4ab2-b4d5-e98b8eba36b8",
   "metadata": {
    "tags": []
   },
   "outputs": [
    {
     "name": "stdout",
     "output_type": "stream",
     "text": [
      "Warning: When  cdn_resources is 'local' jupyter notebook has issues displaying graphics on chrome/safari. Use cdn_resources='in_line' or cdn_resources='remote' if you have issues viewing graphics in a notebook.\n",
      "test.html\n"
     ]
    },
    {
     "data": {
      "text/html": [
       "\n",
       "        <iframe\n",
       "            width=\"2200px\"\n",
       "            height=\"2000px\"\n",
       "            src=\"test.html\"\n",
       "            frameborder=\"0\"\n",
       "            allowfullscreen\n",
       "            \n",
       "        ></iframe>\n",
       "        "
      ],
      "text/plain": [
       "<IPython.lib.display.IFrame at 0x1e7de4f3b10>"
      ]
     },
     "execution_count": 189,
     "metadata": {},
     "output_type": "execute_result"
    }
   ],
   "source": [
    "\n",
    "net2 = Network(notebook=True, height='2000px', width='2200px', bgcolor='#000', select_menu=False, filter_menu=False, font_color='#FFF')\n",
    "net2.add_node('A', physics=False)\n",
    "\n",
    "net2.add_node('B', physics=False)\n",
    "net2.add_node('B1', physics=True)\n",
    "net2.add_node('B2', physics=True)\n",
    "net2.add_node('C', physics=False)\n",
    "net2.add_node('C1', physics=True)\n",
    "net2.add_node('C2', physics=True)\n",
    "net2.add_node('D', physics=False)\n",
    "net2.add_edge('A', 'B', physics=False)\n",
    "net2.add_edge('C1', 'A', physics=True)\n",
    "net2.add_edge('C1', 'B', physics=True)\n",
    "net2.add_edge('C1', 'D', physics=True)\n",
    "net2.add_edge('D', 'C2', physics=True)\n",
    "\n",
    "index = 0\n",
    "result =  get_coords(radius=50000, x=0, y=0, minresults=15)\n",
    "for pos in result:\n",
    "    net2.add_node(index, x=pos[0], y=pos[1], physics=False)\n",
    "    index +=1\n",
    "    \n",
    "    level2_result = get_coords(radius=3000, x = pos[0], y=pos[1], minresults=12)\n",
    "    #print(level2_result)\n",
    "    index2 = 0\n",
    "    for pos2 in level2_result:\n",
    "        net2.add_node(str(index)+\"-\"+str(index2), x=pos2[0], y=pos2[1], physics=False)\n",
    "        index2 += 1\n",
    "    \n",
    "    \n",
    "net2.show('test.html')"
   ]
  },
  {
   "cell_type": "code",
   "execution_count": null,
   "id": "995fec15-d46d-46ff-89fd-c09ae04a1218",
   "metadata": {
    "tags": []
   },
   "outputs": [],
   "source": []
  },
  {
   "cell_type": "code",
   "execution_count": null,
   "id": "74f807a2-6a79-401b-aef1-bf68939c5802",
   "metadata": {
    "tags": []
   },
   "outputs": [],
   "source": []
  },
  {
   "cell_type": "code",
   "execution_count": null,
   "id": "e33c9aa2-427e-45c8-bd34-e243a4cd6cbf",
   "metadata": {
    "tags": []
   },
   "outputs": [],
   "source": []
  },
  {
   "cell_type": "code",
   "execution_count": null,
   "id": "f61c77ed-641d-4c17-bb5c-60c1ab26814f",
   "metadata": {
    "tags": []
   },
   "outputs": [],
   "source": []
  },
  {
   "cell_type": "code",
   "execution_count": null,
   "id": "9e2ad56b-b74e-4e4c-b377-b2d46ba3cd2d",
   "metadata": {
    "tags": []
   },
   "outputs": [],
   "source": []
  },
  {
   "cell_type": "code",
   "execution_count": null,
   "id": "2df0dd9c-9278-4e97-a6c0-66ff844020e2",
   "metadata": {
    "tags": []
   },
   "outputs": [],
   "source": []
  },
  {
   "cell_type": "code",
   "execution_count": 204,
   "id": "b7299f3e-da41-4bc1-be19-cc814fb8aaf4",
   "metadata": {
    "tags": []
   },
   "outputs": [
    {
     "name": "stdout",
     "output_type": "stream",
     "text": [
      "Warning: When  cdn_resources is 'local' jupyter notebook has issues displaying graphics on chrome/safari. Use cdn_resources='in_line' or cdn_resources='remote' if you have issues viewing graphics in a notebook.\n",
      "15\n",
      "14\n",
      "{'execution': 15, 'collection': 16, 'persistence': 14, 'credential-access': 16, 'discovery': 28, 'resource-development': 8, 'reconnaissance': 10, 'defense-evasion': 42, 'impact': 13, 'lateral-movement': 9, 'command-and-control': 17, 'initial-access': 6, 'exfiltration': 9, 'privilege-escalation': 4}\n",
      "test2.html\n"
     ]
    },
    {
     "data": {
      "text/html": [
       "\n",
       "        <iframe\n",
       "            width=\"2200px\"\n",
       "            height=\"2000px\"\n",
       "            src=\"test2.html\"\n",
       "            frameborder=\"0\"\n",
       "            allowfullscreen\n",
       "            \n",
       "        ></iframe>\n",
       "        "
      ],
      "text/plain": [
       "<IPython.lib.display.IFrame at 0x1e7e2a66a10>"
      ]
     },
     "execution_count": 204,
     "metadata": {},
     "output_type": "execute_result"
    }
   ],
   "source": [
    "net3 = Network(notebook=True, height='2000px', width='2200px', bgcolor='#000', select_menu=False, filter_menu=False, font_color='#FFF')\n",
    "\n",
    "# Tactics\n",
    "prev = None\n",
    "\n",
    "tactic_coords = get_coords(20000, x=0, y=0, minresults=len(d.attack.cfg.tactics_order)+1)\n",
    "print(len(tactic_coords))\n",
    "print(len(d.attack.cfg.tactics_order))\n",
    "tac_index = 0\n",
    "\n",
    "for tac in d.attack.cfg.tactics_order:\n",
    "    net3.add_node(tac, physics=False, label=tac.replace('-', ' ').title(), x=tactic_coords[tac_index][0], y=tactic_coords[tac_index][1], **gconf.tactic)\n",
    "    tac_index += 1\n",
    "    if prev:\n",
    "        net3.add_edge(prev, tac)\n",
    "        pass\n",
    "    prev = tac\n",
    "    \n",
    "# Techniques\n",
    "\n",
    "for tac in full_index:\n",
    "    \n",
    "\n",
    "\n",
    "# for tech in d.attack.techniques:\n",
    "#     tac = d.attack.techniques[tech].tactics[0]\n",
    "    \n",
    "#     parent = d.attack.techniques[tech].get_parent()\n",
    "    \n",
    "#     if parent and parent not in net3.node_ids:\n",
    "#         parent_tac = d.attack.techniques[parent].tactics[0]\n",
    "#         net3.add_node(parent, label= d.attack.get_name_by_id(parent), physics=False, **gconf.technique)\n",
    "#         #net.add_node(parent, color=gconf.technique['color'], mass=gconf.technique['mass'])\n",
    "#         net3.add_edge(parent, parent_tac)\n",
    "    \n",
    "#     if parent:\n",
    "#         net3.add_node(tech, label = d.attack.get_name_by_id(tech),  **gconf.subtechnique)\n",
    "#         #net.add_node(tech, color=gconf.subtechnique['color'], mass=gconf.subtechnique['mass'])\n",
    "#         net3.add_edge(tech, parent)\n",
    "#     else:\n",
    "#         net3.add_node(tech, label = d.attack.get_name_by_id(tech),physics=False, **gconf.technique)\n",
    "#         #net.add_node(tech, color=gconf.technique['color'], mass=gconf.technique['mass'])\n",
    "#         net3.add_edge(tech, tac)\n",
    "\n",
    "    \n",
    "net3.show('test2.html')"
   ]
  },
  {
   "cell_type": "code",
   "execution_count": null,
   "id": "4085e31e-c90d-4f0c-aadf-ba5ad23d9a78",
   "metadata": {
    "tags": []
   },
   "outputs": [],
   "source": []
  },
  {
   "cell_type": "code",
   "execution_count": 8,
   "id": "1d2c0c1e-0161-4a09-bead-05dc9c94241d",
   "metadata": {
    "tags": []
   },
   "outputs": [
    {
     "data": {
      "text/plain": [
       "{'tactic': {'mass': 100, 'size': 100, 'color': '#C00'},\n",
       " 'technique': {'mass': 50, 'size': 50, 'color': '#C77'},\n",
       " 'subtechnique': {'mass': 5, 'size': 20, 'color': '#A66'},\n",
       " 'severity_colors': {'critical': '#E76EFA',\n",
       "  'high': '#AB62DE',\n",
       "  'medium': '#9E77F5',\n",
       "  'low': '#6762DE',\n",
       "  'informational': '#FFF'}}"
      ]
     },
     "execution_count": 8,
     "metadata": {},
     "output_type": "execute_result"
    }
   ],
   "source": [
    "d.attack.cfg.graph"
   ]
  },
  {
   "cell_type": "code",
   "execution_count": 62,
   "id": "37bea5eb-c5b6-48ea-a1f8-e793f8de3458",
   "metadata": {
    "tags": []
   },
   "outputs": [
    {
     "name": "stdout",
     "output_type": "stream",
     "text": [
      "Warning: When  cdn_resources is 'local' jupyter notebook has issues displaying graphics on chrome/safari. Use cdn_resources='in_line' or cdn_resources='remote' if you have issues viewing graphics in a notebook.\n"
     ]
    }
   ],
   "source": [
    "net4 = Network(notebook=True, height='2000px', width='2200px', bgcolor='#000', select_menu=False, filter_menu=False, font_color='#FFF')\n",
    "\n",
    "d.attack.cfg.graph\n",
    "\n",
    "tac_rad = 18000\n",
    "tech_rad = 2500\n",
    "subtech_rad = 100\n",
    "\n",
    "# Tactics\n",
    "prev = None\n",
    "tactic_coords = d.get_coords(tac_rad, x=0, y=0, minresults=len(d.attack.cfg.tactics_order)+1)\n",
    "\n",
    "tac_index = 0\n",
    "\n",
    "for tac in d.attack.hierarchical_index:\n",
    "    tac_x = tactic_coords[tac_index][0]\n",
    "    tac_y = tactic_coords[tac_index][1]\n",
    "    \n",
    "    net4.add_node(tac, physics=False, label=tac.replace('-', ' ').title(), x=tac_x, y=tac_y, **d.attack.cfg.graph['tactic'])\n",
    "    tac_index += 1\n",
    "    if prev:\n",
    "        net4.add_edge(prev, tac)\n",
    "    prev = tac\n",
    "    \n",
    "    # Techniques\n",
    "    tech_index = 0\n",
    "    technique_coords = d.get_coords(tech_rad, x=tac_x, y=tac_y, minresults=len(d.attack.hierarchical_index[tac])+1)\n",
    "    for tech in d.attack.hierarchical_index[tac]:\n",
    "        tech_x = technique_coords[tech_index][0]\n",
    "        tech_y = technique_coords[tech_index][1]\n",
    "        net4.add_node(tech, physics=False, label= d.attack.get_name_by_id(tech), x=tech_x, y=tech_y, **d.attack.cfg.graph['technique'])\n",
    "        tech_index += 1\n",
    "        net4.add_edge(tech, tac)\n",
    "        \n",
    "        \n",
    "        # Subtechniques\n",
    "        subtech_index = 0\n",
    "        subtechnique_coords = d.get_coords(subtech_rad, x=tech_x, y=tech_y, minresults=len(d.attack.hierarchical_index[tac][tech])+1)\n",
    "        for subtech in d.attack.hierarchical_index[tac][tech]:\n",
    "            subtech_x = subtechnique_coords[subtech_index][0]\n",
    "            subtech_y = subtechnique_coords[subtech_index][1]\n",
    "            net4.add_node(subtech, physics=True, label= d.attack.get_name_by_id(subtech), x=subtech_x, y=subtech_y, **d.attack.cfg.graph['subtechnique'])\n",
    "            subtech_index += 1\n",
    "            net4.add_edge(subtech, tech)\n",
    "\n",
    "tactic_circles = {}            \n",
    "for tac in d.attack.hierarchical_index:\n",
    "    tactic_circles.update({\n",
    "        tac: d.get_coords(tech_rad+200, x=net4.get_node(tac)['x'], y=net4.get_node(tac)['y'], minresults=100)\n",
    "    })\n",
    "    tactic_circles[tac].extend(d.get_coords(tech_rad+300, x=net4.get_node(tac)['x'], y=net4.get_node(tac)['y'], minresults=100))\n",
    "    tactic_circles[tac].extend(d.get_coords(tech_rad+400, x=net4.get_node(tac)['x'], y=net4.get_node(tac)['y'], minresults=100))\n",
    "    tactic_circles[tac].extend(d.get_coords(tech_rad+500, x=net4.get_node(tac)['x'], y=net4.get_node(tac)['y'], minresults=100))\n",
    "            \n",
    "        \n"
   ]
  },
  {
   "cell_type": "code",
   "execution_count": 45,
   "id": "f049ec79-5ca4-459e-840b-45628a0a9aab",
   "metadata": {
    "collapsed": true,
    "jupyter": {
     "outputs_hidden": true
    },
    "tags": []
   },
   "outputs": [
    {
     "name": "stdout",
     "output_type": "stream",
     "text": [
      "[]\n",
      "Pos (-15065.867897713273, 1107.966913727889)\n",
      "Dist 1068.3038715637344\n",
      "None - updating (-15065.867897713273, 1107.966913727889)\n",
      "Pos (-15071.086331901195, 1281.8625325185205)\n",
      "Dist 914.2670482985898\n",
      "New low 914.2670482985898 (-15071.086331901195, 1281.8625325185205)\n",
      "Pos (-15086.72285373712, 1455.1323148662368)\n",
      "Dist 762.8548510874627\n",
      "New low 762.8548510874627 (-15086.72285373712, 1455.1323148662368)\n",
      "Pos (-15112.721188627851, 1627.1526766634952)\n",
      "Dist 616.7470507516856\n",
      "New low 616.7470507516856 (-15112.721188627851, 1627.1526766634952)\n",
      "Pos (-15148.987770642618, 1797.3045303675217)\n",
      "Dist 481.557758157164\n",
      "New low 481.557758157164 (-15148.987770642618, 1797.3045303675217)\n",
      "Pos (-15195.392079249374, 1964.9755130469323)\n",
      "Dist 370.19553962940864\n",
      "New low 370.19553962940864 (-15195.392079249374, 1964.9755130469323)\n",
      "Pos (-15251.767109047774, 2129.562190227012)\n",
      "Dist 310.0949577710683\n",
      "New low 310.0949577710683 (-15251.767109047774, 2129.562190227012)\n",
      "Pos (-15317.909970808272, 2290.472227602193)\n",
      "Dist 330.7377438205978\n",
      "Pos (-15393.582621654245, 2447.1265227999106)\n",
      "Dist 420.3365866108747\n",
      "Pos (-15478.512721759305, 2598.9612895237897)\n",
      "Dist 545.7131706919705\n",
      "Pos (-15572.394614476576, 2745.4300865754935)\n",
      "Dist 687.2493068628198\n",
      "Pos (-15674.89042637255, 2886.0057844529547)\n",
      "Dist 836.4096115889137\n",
      "Pos (-15785.631283206596, 3020.1824624473493)\n",
      "Dist 989.3397929275943\n",
      "Pos (-15904.218637479888, 3147.4772294113204)\n",
      "Dist 1144.0906039105719\n",
      "Pos (-16030.225702776008, 3267.431961645648)\n",
      "Dist 1299.5549649146158\n",
      "Pos (-16163.198989731196, 3379.6149516498526)\n",
      "Dist 1455.0344970058677\n",
      "Pos (-16302.659938106328, 3483.62246180301)\n",
      "Dist 1610.0462099468357\n",
      "Pos (-16448.106639087004, 3579.0801773832)\n",
      "Dist 1764.2288422108443\n",
      "Pos (-16599.015641613278, 3665.6445536962947)\n",
      "Dist 1917.2941509491227\n",
      "Pos (-16754.843836238222, 3743.0040524658752)\n",
      "Dist 2069.0000287525627\n",
      "Pos (-16915.030409735442, 3810.8802630346036)\n",
      "Dist 2219.1349112997686\n",
      "Pos (-17078.998863421082, 3869.0289043419425)\n",
      "Dist 2367.5083501666295\n",
      "Pos (-17246.15908792656, 3917.240704072183)\n",
      "Dist 2513.945111736906\n",
      "Pos (-17415.909486955028, 3955.34215180879)\n",
      "Dist 2658.2813751306053\n",
      "Pos (-17587.639142378423, 3983.1961234845385)\n",
      "Dist 2800.3622237945965\n",
      "Pos (-17760.73001288298, 4000.7023748800757)\n",
      "Dist 2940.0399589518997\n",
      "Pos (-17934.559158250602, 4007.797902394859)\n",
      "Dist 3077.1729492497934\n",
      "Pos (-18108.500981270907, 4004.4571697920865)\n",
      "Dist 3211.624838514702\n",
      "Pos (-18281.929479215647, 3990.692200101569)\n",
      "Dist 3343.26399764369\n",
      "Pos (-18454.220496772527, 3966.5525323498105)\n",
      "Dist 3471.963145962886\n",
      "Pos (-18624.75397233031, 3932.125043273003)\n",
      "Dist 3597.5990920809522\n",
      "Pos (-18792.916169531036, 3887.5336346545964)\n",
      "Dist 3720.052560141839\n",
      "Pos (-18958.101886058168, 3832.938787412677)\n",
      "Dist 3839.2080777983483\n",
      "Pos (-19119.71663171137, 3768.5369840419544)\n",
      "Dist 3954.953909193074\n",
      "Pos (-19277.17876792927, 3694.5600014889633)\n",
      "Dist 4067.1820209709504\n",
      "Pos (-19429.921601060185, 3611.2740770053397)\n",
      "Dist 4175.78807262154\n",
      "Pos (-19577.395421847305, 3518.9789499812205)\n",
      "Dist 4280.671424745083\n",
      "Pos (-19719.069483788415, 3418.006783207118)\n",
      "Dist 4381.735160468388\n",
      "Pos (-19854.433913250145, 3308.720967446564)\n",
      "Dist 4478.886116411352\n",
      "Pos (-19983.00154446248, 3191.5148136217795)\n",
      "Dist 4572.034920461009\n",
      "Pos (-20104.309672789434, 3066.810137319077)\n",
      "Dist 4661.096034240214\n",
      "Pos (-20217.921719966085, 2935.055740708259)\n",
      "Dist 4745.9877986277215\n",
      "Pos (-20323.428805308882, 2796.72579733945)\n",
      "Dist 4826.632481039194\n",
      "Pos (-20420.451217244572, 2652.3181456303687)\n",
      "Dist 4902.95632344681\n",
      "Pos (-20508.639779861816, 2502.3524971856177)\n",
      "Dist 4974.889590320432\n",
      "Pos (-20587.677109567412, 2347.368566396135)\n",
      "Dist 5042.366615832292\n",
      "Pos (-20657.27875732449, 2187.9241280502024)\n",
      "Dist 5105.325849790958\n",
      "Pos (-20717.194232361886, 2024.5930099465368)\n",
      "Dist 5163.709901868099\n",
      "Pos (-20767.20790367041, 1857.9630277338715)\n",
      "Dist 5217.465583758984\n",
      "Pos (-20807.139776041637, 1688.6338694093874)\n",
      "Dist 5266.543948979965\n",
      "Pos (-20836.846137856275, 1517.2149370895065)\n",
      "Dist 5310.900330056407\n",
      "Pos (-20856.220078290815, 1344.3231538203497)\n",
      "Dist 5350.494372895838\n",
      "Pos (-20865.19187208104, 1170.5807433209673)\n",
      "Dist 5385.290068174981\n",
      "Pos (-20863.72923045767, 996.6129906498709)\n",
      "Dist 5415.255779597893\n",
      "Pos (-20851.837417351097, 823.04599185405)\n",
      "Dist 5440.364268906494\n",
      "Pos (-20829.559230446877, 650.5044006993055)\n",
      "Dist 5460.592717545314\n",
      "Pos (-20796.97484716032, 479.6091805912379)\n",
      "Dist 5475.922744900509\n",
      "Pos (-20754.201536084343, 310.9753697775466)\n",
      "Dist 5486.340423048816\n",
      "Pos (-20701.393234949188, 145.20986787450045)\n",
      "Dist 5491.836287966685\n",
      "Pos (-20638.739996612814, -17.09074831630801)\n",
      "Dist 5492.4053471627885\n",
      "Pos (-20566.467305075865, -175.342371840223)\n",
      "Dist 5488.047083709489\n",
      "Pos (-20484.835263982728, -328.97546774380226)\n",
      "Dist 5478.7654566604215\n",
      "Pos (-20394.13766052931, -477.4371227856252)\n",
      "Dist 5464.5688978530015\n",
      "Pos (-20294.700908146395, -620.1930353268876)\n",
      "Dist 5445.470305105862\n",
      "Pos (-20186.882871763748, -756.7294382403259)\n",
      "Dist 5421.487031832961\n",
      "Pos (-20071.071579882846, -886.5549479170704)\n",
      "Dist 5392.640873108234\n",
      "Pos (-19947.68382809327, -1009.2023327170107)\n",
      "Dist 5358.958048227483\n",
      "Pos (-19817.163679058685, -1124.230194498147)\n",
      "Dist 5320.469179828323\n",
      "Pos (-19679.98086437077, -1231.2245571732503)\n",
      "Dist 5277.209269644368\n",
      "Pos (-19536.629094022737, -1329.8003565767347)\n",
      "Dist 5229.217670987415\n",
      "Pos (-19387.62427958651, -1419.6028262798357)\n",
      "Dist 5176.5380580713\n",
      "Pos (-19233.502677488174, -1500.3087743666504)\n",
      "Dist 5119.2183923143275\n",
      "Pos (-19074.818959063916, -1571.627746576031)\n",
      "Dist 5057.310885784535\n",
      "Pos (-18912.144214342225, -1633.3030716232704)\n",
      "Dist 4990.87196198467\n",
      "Pos (-18746.06389673645, -1685.1127849395564)\n",
      "Dist 4919.962214213065\n",
      "Pos (-18577.175716044756, -1726.8704275047264)\n",
      "Dist 4844.646361784712\n",
      "Pos (-18406.087487340286, -1758.425716898387)\n",
      "Dist 4764.993204455922\n",
      "Pos (-18233.414943493262, -1779.6650881543453)\n",
      "Dist 4681.075575469617\n",
      "Pos (-18059.779519197567, -1790.5121024718471)\n",
      "Dist 4592.970293730819\n",
      "Pos (-17885.806114476905, -1790.9277223127199)\n",
      "Dist 4500.758115739039\n",
      "Pos (-17712.120845719546, -1780.9104518943507)\n",
      "Dist 4404.523688054261\n",
      "Pos (-17539.348792335437, -1760.4963425728936)\n",
      "Dist 4304.355501266519\n",
      "Pos (-17368.11174714533, -1729.7588630973125)\n",
      "Dist 4200.345846690985\n",
      "Pos (-17199.025978598092, -1688.8086352012253)\n",
      "Dist 4092.5907773413733\n",
      "Pos (-17032.700012869784, -1637.793035484119)\n",
      "Dist 3981.1900751736075\n",
      "Pos (-16869.732443826535, -1576.8956650147395)\n",
      "Dist 3866.247227180056\n",
      "Pos (-16710.709778733053, -1506.3356885655087)\n",
      "Dist 3747.8694137114594\n",
      "Pos (-16556.204327459796, -1426.3670458560143)\n",
      "Dist 3626.167513494512\n",
      "Pos (-16406.772142785496, -1337.2775376442394)\n",
      "Dist 3501.2561313241217\n",
      "Pos (-16262.95101920758, -1239.3877899546253)\n",
      "Dist 3373.2536565286928\n",
      "Pos (-16125.258557462756, -1133.0501001706123)\n",
      "Dist 3242.2823633193602\n",
      "Pos (-15994.190301723293, -1018.6471691445001)\n",
      "Dist 3108.468568478203\n",
      "Pos (-15870.217956173123, -896.5907238876437)\n",
      "Dist 2971.9428682029616\n",
      "Pos (-15753.78768738216, -767.3200357978262)\n",
      "Dist 2832.840485403046\n",
      "Pos (-15645.318518588454, -631.300339756581)\n",
      "Dist 2691.301773120222\n",
      "Pos (-15545.200821667011, -489.0211597860132)\n",
      "Dist 2547.472942005883\n",
      "Pos (-15453.79491221262, -340.9945472909426)\n",
      "Dist 2401.507115014257\n",
      "Pos (-15371.429752792772, -187.7532382267941)\n",
      "Dist 2253.565869602564\n",
      "Pos (-15298.401769037686, -29.848735825445374)\n",
      "Dist 2103.8215229319326\n",
      "Pos (-15234.973782828121, 132.1506742208569)\n",
      "Dist 1952.460579079399\n",
      "Pos (-15181.374066420429, 297.66196897431314)\n",
      "Dist 1799.6890478176174\n",
      "Pos (-15137.795520912927, 466.0894865045591)\n",
      "Dist 1645.7408809383992\n",
      "Pos (-15104.394982010263, 636.827069628376)\n",
      "Dist 1490.8918064656257\n",
      "Pos (-15081.292655584231, 809.2602474209799)\n",
      "Dist 1335.4829371155904\n",
      "Pos (-15068.571685062452, 982.7684466478021)\n",
      "Dist 1179.9630250219695\n",
      "(-15251.767109047774, 2129.562190227012)\n"
     ]
    }
   ],
   "source": [
    "taken = []\n",
    "rule = s.rules[0]\n",
    "tech = rule.techniques[0]\n",
    "tac = d.attack.find_tactic_in_hirarchical_index(tech)\n",
    "tech_pos = (net4.get_node(tech)['x'],net4.get_node(tech)['y'])\n",
    "circle = tactic_circles[tac]\n",
    "closest_pos = find_closest_point(tech_pos, circle, taken)\n",
    "print(closest_pos)"
   ]
  },
  {
   "cell_type": "code",
   "execution_count": 63,
   "id": "72cf49b5-c581-465b-86d6-4426f9fe54c3",
   "metadata": {
    "tags": []
   },
   "outputs": [
    {
     "name": "stdout",
     "output_type": "stream",
     "text": [
      "test4.html\n"
     ]
    },
    {
     "data": {
      "text/html": [
       "\n",
       "        <iframe\n",
       "            width=\"2200px\"\n",
       "            height=\"2000px\"\n",
       "            src=\"test4.html\"\n",
       "            frameborder=\"0\"\n",
       "            allowfullscreen\n",
       "            \n",
       "        ></iframe>\n",
       "        "
      ],
      "text/plain": [
       "<IPython.lib.display.IFrame at 0x2d8bc2c09d0>"
      ]
     },
     "execution_count": 63,
     "metadata": {},
     "output_type": "execute_result"
    }
   ],
   "source": [
    "taken = []\n",
    "for rule in s.rules:\n",
    "    for tech in rule.techniques:\n",
    "        tac = d.attack.find_tactic_in_hirarchical_index(tech)\n",
    "        \n",
    "        tech_pos = (net4.get_node(tech)['x'],net4.get_node(tech)['y'])\n",
    "        circle = tactic_circles[tac]\n",
    "        closest_pos = find_closest_point(tech_pos, circle, taken)\n",
    "        if closest_pos:\n",
    "            net4.add_node(rule.id+tech, label=rule.title, color=d.attack.cfg.graph['severity_colors'][rule.severity], physics=False, x=closest_pos[0], y=closest_pos[1])\n",
    "            net4.add_edge(rule.id+tech, tech)\n",
    "            taken.append(closest_pos)\n",
    "            \n",
    "net4.show('test4.html')"
   ]
  },
  {
   "cell_type": "code",
   "execution_count": 8,
   "id": "b9457753-1f6d-4f85-b50e-853cb4a73645",
   "metadata": {
    "collapsed": true,
    "jupyter": {
     "outputs_hidden": true
    },
    "tags": []
   },
   "outputs": [
    {
     "data": {
      "text/plain": [
       "[(7367.158129738325, 17436.8718021299),\n",
       " (7361.9396955504035, 17610.76742092053),\n",
       " (7346.303173714479, 17784.037203268246),\n",
       " (7320.304838823748, 17956.057565065505),\n",
       " (7284.038256808981, 18126.209418769533),\n",
       " (7237.633948202225, 18293.880401448943),\n",
       " (7181.258918403824, 18458.467078629023),\n",
       " (7115.116056643327, 18619.3771160042),\n",
       " (7039.443405797354, 18776.031411201922),\n",
       " (6954.513305692293, 18927.8661779258),\n",
       " (6860.631412975023, 19074.334974977504),\n",
       " (6758.135601079048, 19214.910672854967),\n",
       " (6647.394744245002, 19349.08735084936),\n",
       " (6528.807389971712, 19476.38211781333),\n",
       " (6402.800324675591, 19596.336850047657),\n",
       " (6269.827037720403, 19708.519840051864),\n",
       " (6130.366089345271, 19812.52735020502),\n",
       " (5984.919388364595, 19907.98506578521),\n",
       " (5834.010385838321, 19994.549442098305),\n",
       " (5678.182191213376, 20071.908940867885),\n",
       " (5517.995617716158, 20139.785151436612),\n",
       " (5354.027164030515, 20197.933792743952),\n",
       " (5186.866939525039, 20246.145592474193),\n",
       " (5017.116540496569, 20284.2470402108),\n",
       " (4845.386885073178, 20312.10101188655),\n",
       " (4672.2960145686175, 20329.607263282087),\n",
       " (4498.466869200997, 20336.70279079687),\n",
       " (4324.525046180693, 20333.362058194096),\n",
       " (4151.096548235951, 20319.59708850358),\n",
       " (3978.8055306790716, 20295.45742075182),\n",
       " (3808.2720551212897, 20261.029931675013),\n",
       " (3640.109857920562, 20216.438523056608),\n",
       " (3474.924141393431, 20161.843675814685),\n",
       " (3313.3093957402293, 20097.441872443964),\n",
       " (3155.8472595223293, 20023.464889890973),\n",
       " (3003.1044263914146, 19940.17896540735),\n",
       " (2855.6306056042936, 19847.88383838323),\n",
       " (2713.956543663185, 19746.911671609127),\n",
       " (2578.592114201452, 19637.625855848575),\n",
       " (2450.024482989117, 19520.419702023788),\n",
       " (2328.716354662164, 19395.71502572109),\n",
       " (2215.1043074855143, 19263.96062911027),\n",
       " (2109.597222142716, 19125.63068574146),\n",
       " (2012.5748102070256, 18981.22303403238),\n",
       " (1924.3862475897813, 18831.25738558763),\n",
       " (1845.3489178841864, 18676.273454798145),\n",
       " (1775.7472701271085, 18516.82901645221),\n",
       " (1715.8317950897144, 18353.497898348545),\n",
       " (1665.8181237811896, 18186.86791613588),\n",
       " (1625.8862514099628, 18017.5387578114),\n",
       " (1596.1798895953234, 17846.119825491518),\n",
       " (1576.8059491607828, 17673.22804222236),\n",
       " (1567.834155370561, 17499.48563172298),\n",
       " (1569.2967969939282, 17325.51787905188),\n",
       " (1581.1886101005034, 17151.95088025606),\n",
       " (1603.4667970047199, 16979.409289101317),\n",
       " (1636.051180291278, 16808.51406899325),\n",
       " (1678.8244913672556, 16639.880258179557),\n",
       " (1731.6327925024125, 16474.11475627651),\n",
       " (1794.286030838783, 16311.814140085702),\n",
       " (1866.5587223757339, 16153.562516561788),\n",
       " (1948.1907634688723, 15999.929420658207),\n",
       " (2038.8883669222878, 15851.467765616384),\n",
       " (2138.3251193052047, 15708.711853075123),\n",
       " (2246.1431556878506, 15572.175450161685),\n",
       " (2361.954447568753, 15442.349940484939),\n",
       " (2485.342199358328, 15319.702555684999),\n",
       " (2615.862348392913, 15204.674693903864),\n",
       " (2753.0451630808293, 15097.68033122876),\n",
       " (2896.3969334288604, 14999.104531825276),\n",
       " (3045.4017478650867, 14909.302062122175),\n",
       " (3199.523349963427, 14828.59611403536),\n",
       " (3358.207068387682, 14757.27714182598),\n",
       " (3520.881813109375, 14695.60181677874),\n",
       " (3686.962130715149, 14643.792103462454),\n",
       " (3855.8503114068426, 14602.034460897285),\n",
       " (4026.9385401113127, 14570.479171503623),\n",
       " (4199.611083958336, 14549.239800247666),\n",
       " (4373.246508254032, 14538.392785930162),\n",
       " (4547.219912974692, 14537.977166089291),\n",
       " (4720.905181732051, 14547.994436507659),\n",
       " (4893.677235116163, 14568.408545829116),\n",
       " (5064.91428030627, 14599.146025304697),\n",
       " (5234.000048853505, 14640.096253200785),\n",
       " (5400.326014581814, 14691.111852917891),\n",
       " (5563.293583625062, 14752.009223387271),\n",
       " (5722.316248718547, 14822.569199836502),\n",
       " (5876.8216999918, 14902.537842545997),\n",
       " (6026.253884666103, 14991.627350757772),\n",
       " (6170.075008244019, 15089.517098447384),\n",
       " (6307.767469988843, 15195.854788231398),\n",
       " (6438.835725728306, 15310.25771925751),\n",
       " (6562.808071278476, 15432.314164514366),\n",
       " (6679.238340069438, 15561.584852604185),\n",
       " (6787.707508863145, 15697.60454864543),\n",
       " (6887.825205784587, 15839.883728615998),\n",
       " (6979.23111523898, 15987.910341111068),\n",
       " (7061.596274658827, 16141.151650175216),\n",
       " (7134.624258413913, 16299.056152576564),\n",
       " (7198.052244623477, 16461.055562622867),\n",
       " (7251.65196103117, 16626.566857376325),\n",
       " (7295.230506538672, 16794.994374906568),\n",
       " (7328.631045441336, 16965.731958030385),\n",
       " (7351.733371867366, 17138.16513582299),\n",
       " (7364.454342389147, 17311.67333504981)]"
      ]
     },
     "execution_count": 8,
     "metadata": {},
     "output_type": "execute_result"
    }
   ],
   "source": [
    "net4.get_node('T1210')\n",
    "tactic_circles['execution']"
   ]
  },
  {
   "cell_type": "code",
   "execution_count": 48,
   "id": "bd85303c-106f-47a2-87af-a652dae960b8",
   "metadata": {
    "tags": []
   },
   "outputs": [],
   "source": [
    "def find_closest_point(destination, circle, taken):\n",
    "    #print(taken)\n",
    "    closest = None\n",
    "    closest_val = None\n",
    "    for pos in circle:\n",
    "        #print('Pos', pos)\n",
    "        if pos not in taken:\n",
    "            dist = math.dist(destination, pos)\n",
    "            #print('Dist', dist)\n",
    "            if not closest_val:\n",
    "                closest_val = dist\n",
    "                closest = pos\n",
    "                #print('None - updating', closest)\n",
    "            else:\n",
    "                if closest_val > dist:\n",
    "                    closest_val = dist\n",
    "                    closest = pos\n",
    "                    #print('New low', dist, closest)\n",
    "    return closest\n",
    "        \n"
   ]
  },
  {
   "cell_type": "code",
   "execution_count": null,
   "id": "ce35b587-685d-44e2-bc34-4684b7777754",
   "metadata": {},
   "outputs": [],
   "source": [
    "Ideas:\n",
    "    \n",
    "    Create inner or outer circles for sigma rules. 3 circles for each severity. generate multiple coordinates on those circles. Choose proper coords based on distance to mapped technique. Remember coords already taken to use the next one. "
   ]
  },
  {
   "cell_type": "code",
   "execution_count": 61,
   "id": "f6b8354f-97d8-48cc-859b-dec17955dea3",
   "metadata": {
    "tags": []
   },
   "outputs": [
    {
     "data": {
      "text/plain": [
       "{'tactic': {'mass': 100, 'size': 100, 'color': '#C00'},\n",
       " 'technique': {'mass': 50, 'size': 50, 'color': '#C77'},\n",
       " 'subtechnique': {'mass': 5, 'size': 20, 'color': '#A66'},\n",
       " 'severity_colors': {'critical': '#E76EFA',\n",
       "  'high': '#AB62DE',\n",
       "  'medium': '#9E77F5',\n",
       "  'low': '#6762DE',\n",
       "  'informational': '#FFF'}}"
      ]
     },
     "execution_count": 61,
     "metadata": {},
     "output_type": "execute_result"
    }
   ],
   "source": [
    "d.attack.cfg.graph"
   ]
  },
  {
   "cell_type": "code",
   "execution_count": null,
   "id": "01c439d2-cc0d-4850-bf6d-558311e86458",
   "metadata": {},
   "outputs": [],
   "source": []
  }
 ],
 "metadata": {
  "kernelspec": {
   "display_name": "Python 3 (ipykernel)",
   "language": "python",
   "name": "python3"
  },
  "language_info": {
   "codemirror_mode": {
    "name": "ipython",
    "version": 3
   },
   "file_extension": ".py",
   "mimetype": "text/x-python",
   "name": "python",
   "nbconvert_exporter": "python",
   "pygments_lexer": "ipython3",
   "version": "3.11.5"
  }
 },
 "nbformat": 4,
 "nbformat_minor": 5
}
