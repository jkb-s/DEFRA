{
 "cells": [
  {
   "cell_type": "code",
   "execution_count": 1,
   "id": "2a805d81-736d-4625-8a7d-fbf39d755160",
   "metadata": {
    "tags": []
   },
   "outputs": [],
   "source": [
    "import math\n",
    "from os import path, walk\n",
    "from json import dumps, loads\n",
    "from pyvis.network import Network\n",
    "from dataclasses import dataclass, field\n",
    "\n",
    "from attack import Attack\n",
    "from defend import DTechnique, DSystem, Defend\n",
    "from sigma import Sigma, SigmaRule\n",
    "from types import SimpleNamespace"
   ]
  },
  {
   "cell_type": "code",
   "execution_count": 2,
   "id": "16e3903d-955f-4f79-a689-4ac51c44340d",
   "metadata": {
    "tags": []
   },
   "outputs": [],
   "source": [
    "d = Defend(Attack(local=True))\n",
    "s = Sigma()\n",
    "\n",
    "gconf = SimpleNamespace(**d.attack.cfg.graph)"
   ]
  },
  {
   "cell_type": "code",
   "execution_count": 21,
   "id": "488bc44c-0008-4f62-93cf-fe1098cd8c94",
   "metadata": {
    "tags": []
   },
   "outputs": [
    {
     "data": {
      "text/plain": [
       "[]"
      ]
     },
     "execution_count": 21,
     "metadata": {},
     "output_type": "execute_result"
    }
   ],
   "source": []
  },
  {
   "cell_type": "code",
   "execution_count": 105,
   "id": "9f0e45b0-1556-4860-b6ec-5e10818e3953",
   "metadata": {
    "tags": []
   },
   "outputs": [
    {
     "name": "stdout",
     "output_type": "stream",
     "text": [
      "Warning: When  cdn_resources is 'local' jupyter notebook has issues displaying graphics on chrome/safari. Use cdn_resources='in_line' or cdn_resources='remote' if you have issues viewing graphics in a notebook.\n"
     ]
    }
   ],
   "source": [
    "Out = './Poligon'\n",
    "\n",
    "net = Network(notebook=True, height='2000px', width='2200px', bgcolor='#000', select_menu=False, filter_menu=False, font_color='#FFF')"
   ]
  },
  {
   "cell_type": "code",
   "execution_count": 106,
   "id": "c7f6ab1e-ef57-473d-8093-553db97c0769",
   "metadata": {
    "tags": []
   },
   "outputs": [],
   "source": [
    "# Tactics\n",
    "prev = None\n",
    "for tac in d.attack.cfg.tactics_order:\n",
    "    net.add_node(tac, phyisics=False,label=tac.replace('-', ' ').title(), **gconf.tactic)\n",
    "    if prev:\n",
    "        net.add_edge(prev, tac)\n",
    "        pass\n",
    "    prev = tac"
   ]
  },
  {
   "cell_type": "code",
   "execution_count": 107,
   "id": "e245b809-5bb5-4d36-beb7-181f32798237",
   "metadata": {
    "tags": []
   },
   "outputs": [],
   "source": [
    "for tech in d.attack.techniques:\n",
    "    tac = d.attack.techniques[tech].tactics[0]\n",
    "    \n",
    "    parent = d.attack.techniques[tech].get_parent()\n",
    "    \n",
    "    if parent and parent not in net.node_ids:\n",
    "        parent_tac = d.attack.techniques[parent].tactics[0]\n",
    "        net.add_node(parent, label= d.attack.get_name_by_id(parent), **gconf.technique)\n",
    "        #net.add_node(parent, color=gconf.technique['color'], mass=gconf.technique['mass'])\n",
    "        net.add_edge(parent, parent_tac)\n",
    "    \n",
    "    if parent:\n",
    "        net.add_node(tech, label = d.attack.get_name_by_id(tech),  **gconf.subtechnique)\n",
    "        #net.add_node(tech, color=gconf.subtechnique['color'], mass=gconf.subtechnique['mass'])\n",
    "        net.add_edge(tech, parent)\n",
    "    else:\n",
    "        net.add_node(tech, label = d.attack.get_name_by_id(tech), **gconf.technique)\n",
    "        #net.add_node(tech, color=gconf.technique['color'], mass=gconf.technique['mass'])\n",
    "        net.add_edge(tech, tac)"
   ]
  },
  {
   "cell_type": "code",
   "execution_count": 49,
   "id": "337beb6c-2525-4b95-80df-c6b5a40e42db",
   "metadata": {
    "tags": []
   },
   "outputs": [
    {
     "data": {
      "text/plain": [
       "['defense-evasion', 'persistence']"
      ]
     },
     "execution_count": 49,
     "metadata": {},
     "output_type": "execute_result"
    }
   ],
   "source": [
    "d.attack.techniques['T1542'].tactics"
   ]
  },
  {
   "cell_type": "code",
   "execution_count": 109,
   "id": "4b98ca62-0b9c-4335-9b26-c052804fdd2f",
   "metadata": {
    "tags": []
   },
   "outputs": [
    {
     "name": "stdout",
     "output_type": "stream",
     "text": [
      "sigma_multinode_3_sev_Crit.html\n"
     ]
    },
    {
     "data": {
      "text/html": [
       "\n",
       "        <iframe\n",
       "            width=\"2200px\"\n",
       "            height=\"2000px\"\n",
       "            src=\"sigma_multinode_3_sev_Crit.html\"\n",
       "            frameborder=\"0\"\n",
       "            allowfullscreen\n",
       "            \n",
       "        ></iframe>\n",
       "        "
      ],
      "text/plain": [
       "<IPython.lib.display.IFrame at 0x1e7de038290>"
      ]
     },
     "execution_count": 109,
     "metadata": {},
     "output_type": "execute_result"
    }
   ],
   "source": [
    "#net.show_buttons()\n",
    "\n",
    "netcfg = \"\"\"{\n",
    "  \"edges\": {\n",
    "    \"color\": {\n",
    "      \"inherit\": true\n",
    "    },\n",
    "    \"selfReference\": {\n",
    "      \"angle\": 0.7853981633974483\n",
    "    },\n",
    "    \"smooth\": {\n",
    "      \"forceDirection\": \"none\"\n",
    "    }\n",
    "  },\n",
    "  \"physics\": {\n",
    "    \"barnesHut\": {\n",
    "      \"centralGravity\": 0.8,\n",
    "      \"springLength\": 30,\n",
    "      \"damping\": 0.21,\n",
    "      \"avoidOverlap\": 0.13\n",
    "    },\n",
    "    \"minVelocity\": 0.75,\n",
    "    \"timestep\": 1\n",
    "  }\n",
    "}\"\"\"\n",
    "net.set_options(netcfg)\n",
    "net.show('sigma_multinode_3_sev_Crit.html')"
   ]
  },
  {
   "cell_type": "code",
   "execution_count": 189,
   "id": "6c00d8d6-5727-4ab2-b4d5-e98b8eba36b8",
   "metadata": {
    "tags": []
   },
   "outputs": [
    {
     "name": "stdout",
     "output_type": "stream",
     "text": [
      "Warning: When  cdn_resources is 'local' jupyter notebook has issues displaying graphics on chrome/safari. Use cdn_resources='in_line' or cdn_resources='remote' if you have issues viewing graphics in a notebook.\n",
      "test.html\n"
     ]
    },
    {
     "data": {
      "text/html": [
       "\n",
       "        <iframe\n",
       "            width=\"2200px\"\n",
       "            height=\"2000px\"\n",
       "            src=\"test.html\"\n",
       "            frameborder=\"0\"\n",
       "            allowfullscreen\n",
       "            \n",
       "        ></iframe>\n",
       "        "
      ],
      "text/plain": [
       "<IPython.lib.display.IFrame at 0x1e7de4f3b10>"
      ]
     },
     "execution_count": 189,
     "metadata": {},
     "output_type": "execute_result"
    }
   ],
   "source": [
    "\n",
    "net2 = Network(notebook=True, height='2000px', width='2200px', bgcolor='#000', select_menu=False, filter_menu=False, font_color='#FFF')\n",
    "net2.add_node('A', physics=False)\n",
    "\n",
    "net2.add_node('B', physics=False)\n",
    "net2.add_node('B1', physics=True)\n",
    "net2.add_node('B2', physics=True)\n",
    "net2.add_node('C', physics=False)\n",
    "net2.add_node('C1', physics=True)\n",
    "net2.add_node('C2', physics=True)\n",
    "net2.add_node('D', physics=False)\n",
    "net2.add_edge('A', 'B', physics=False)\n",
    "net2.add_edge('C1', 'A', physics=True)\n",
    "net2.add_edge('C1', 'B', physics=True)\n",
    "net2.add_edge('C1', 'D', physics=True)\n",
    "net2.add_edge('D', 'C2', physics=True)\n",
    "\n",
    "index = 0\n",
    "result =  get_coords(radius=50000, x=0, y=0, minresults=15)\n",
    "for pos in result:\n",
    "    net2.add_node(index, x=pos[0], y=pos[1], physics=False)\n",
    "    index +=1\n",
    "    \n",
    "    level2_result = get_coords(radius=3000, x = pos[0], y=pos[1], minresults=12)\n",
    "    #print(level2_result)\n",
    "    index2 = 0\n",
    "    for pos2 in level2_result:\n",
    "        net2.add_node(str(index)+\"-\"+str(index2), x=pos2[0], y=pos2[1], physics=False)\n",
    "        index2 += 1\n",
    "    \n",
    "    \n",
    "net2.show('test.html')"
   ]
  },
  {
   "cell_type": "code",
   "execution_count": null,
   "id": "995fec15-d46d-46ff-89fd-c09ae04a1218",
   "metadata": {
    "tags": []
   },
   "outputs": [],
   "source": []
  },
  {
   "cell_type": "code",
   "execution_count": null,
   "id": "74f807a2-6a79-401b-aef1-bf68939c5802",
   "metadata": {
    "tags": []
   },
   "outputs": [],
   "source": []
  },
  {
   "cell_type": "code",
   "execution_count": null,
   "id": "e33c9aa2-427e-45c8-bd34-e243a4cd6cbf",
   "metadata": {
    "tags": []
   },
   "outputs": [],
   "source": []
  },
  {
   "cell_type": "code",
   "execution_count": null,
   "id": "f61c77ed-641d-4c17-bb5c-60c1ab26814f",
   "metadata": {
    "tags": []
   },
   "outputs": [],
   "source": []
  },
  {
   "cell_type": "code",
   "execution_count": null,
   "id": "9e2ad56b-b74e-4e4c-b377-b2d46ba3cd2d",
   "metadata": {
    "tags": []
   },
   "outputs": [],
   "source": []
  },
  {
   "cell_type": "code",
   "execution_count": null,
   "id": "2df0dd9c-9278-4e97-a6c0-66ff844020e2",
   "metadata": {
    "tags": []
   },
   "outputs": [],
   "source": []
  },
  {
   "cell_type": "code",
   "execution_count": 204,
   "id": "b7299f3e-da41-4bc1-be19-cc814fb8aaf4",
   "metadata": {
    "tags": []
   },
   "outputs": [
    {
     "name": "stdout",
     "output_type": "stream",
     "text": [
      "Warning: When  cdn_resources is 'local' jupyter notebook has issues displaying graphics on chrome/safari. Use cdn_resources='in_line' or cdn_resources='remote' if you have issues viewing graphics in a notebook.\n",
      "15\n",
      "14\n",
      "{'execution': 15, 'collection': 16, 'persistence': 14, 'credential-access': 16, 'discovery': 28, 'resource-development': 8, 'reconnaissance': 10, 'defense-evasion': 42, 'impact': 13, 'lateral-movement': 9, 'command-and-control': 17, 'initial-access': 6, 'exfiltration': 9, 'privilege-escalation': 4}\n",
      "test2.html\n"
     ]
    },
    {
     "data": {
      "text/html": [
       "\n",
       "        <iframe\n",
       "            width=\"2200px\"\n",
       "            height=\"2000px\"\n",
       "            src=\"test2.html\"\n",
       "            frameborder=\"0\"\n",
       "            allowfullscreen\n",
       "            \n",
       "        ></iframe>\n",
       "        "
      ],
      "text/plain": [
       "<IPython.lib.display.IFrame at 0x1e7e2a66a10>"
      ]
     },
     "execution_count": 204,
     "metadata": {},
     "output_type": "execute_result"
    }
   ],
   "source": [
    "net3 = Network(notebook=True, height='2000px', width='2200px', bgcolor='#000', select_menu=False, filter_menu=False, font_color='#FFF')\n",
    "\n",
    "# Tactics\n",
    "prev = None\n",
    "\n",
    "tactic_coords = get_coords(20000, x=0, y=0, minresults=len(d.attack.cfg.tactics_order)+1)\n",
    "print(len(tactic_coords))\n",
    "print(len(d.attack.cfg.tactics_order))\n",
    "tac_index = 0\n",
    "\n",
    "for tac in d.attack.cfg.tactics_order:\n",
    "    net3.add_node(tac, physics=False, label=tac.replace('-', ' ').title(), x=tactic_coords[tac_index][0], y=tactic_coords[tac_index][1], **gconf.tactic)\n",
    "    tac_index += 1\n",
    "    if prev:\n",
    "        net3.add_edge(prev, tac)\n",
    "        pass\n",
    "    prev = tac\n",
    "    \n",
    "# Techniques\n",
    "\n",
    "for tac in full_index:\n",
    "    \n",
    "\n",
    "\n",
    "# for tech in d.attack.techniques:\n",
    "#     tac = d.attack.techniques[tech].tactics[0]\n",
    "    \n",
    "#     parent = d.attack.techniques[tech].get_parent()\n",
    "    \n",
    "#     if parent and parent not in net3.node_ids:\n",
    "#         parent_tac = d.attack.techniques[parent].tactics[0]\n",
    "#         net3.add_node(parent, label= d.attack.get_name_by_id(parent), physics=False, **gconf.technique)\n",
    "#         #net.add_node(parent, color=gconf.technique['color'], mass=gconf.technique['mass'])\n",
    "#         net3.add_edge(parent, parent_tac)\n",
    "    \n",
    "#     if parent:\n",
    "#         net3.add_node(tech, label = d.attack.get_name_by_id(tech),  **gconf.subtechnique)\n",
    "#         #net.add_node(tech, color=gconf.subtechnique['color'], mass=gconf.subtechnique['mass'])\n",
    "#         net3.add_edge(tech, parent)\n",
    "#     else:\n",
    "#         net3.add_node(tech, label = d.attack.get_name_by_id(tech),physics=False, **gconf.technique)\n",
    "#         #net.add_node(tech, color=gconf.technique['color'], mass=gconf.technique['mass'])\n",
    "#         net3.add_edge(tech, tac)\n",
    "\n",
    "    \n",
    "net3.show('test2.html')"
   ]
  },
  {
   "cell_type": "code",
   "execution_count": null,
   "id": "4085e31e-c90d-4f0c-aadf-ba5ad23d9a78",
   "metadata": {
    "tags": []
   },
   "outputs": [],
   "source": []
  },
  {
   "cell_type": "code",
   "execution_count": 8,
   "id": "1d2c0c1e-0161-4a09-bead-05dc9c94241d",
   "metadata": {
    "tags": []
   },
   "outputs": [
    {
     "data": {
      "text/plain": [
       "{'tactic': {'mass': 100, 'size': 100, 'color': '#C00'},\n",
       " 'technique': {'mass': 50, 'size': 50, 'color': '#C77'},\n",
       " 'subtechnique': {'mass': 5, 'size': 20, 'color': '#A66'},\n",
       " 'severity_colors': {'critical': '#E76EFA',\n",
       "  'high': '#AB62DE',\n",
       "  'medium': '#9E77F5',\n",
       "  'low': '#6762DE',\n",
       "  'informational': '#FFF'}}"
      ]
     },
     "execution_count": 8,
     "metadata": {},
     "output_type": "execute_result"
    }
   ],
   "source": [
    "d.attack.cfg.graph"
   ]
  },
  {
   "cell_type": "code",
   "execution_count": 29,
   "id": "37bea5eb-c5b6-48ea-a1f8-e793f8de3458",
   "metadata": {
    "tags": []
   },
   "outputs": [
    {
     "name": "stdout",
     "output_type": "stream",
     "text": [
      "Warning: When  cdn_resources is 'local' jupyter notebook has issues displaying graphics on chrome/safari. Use cdn_resources='in_line' or cdn_resources='remote' if you have issues viewing graphics in a notebook.\n"
     ]
    }
   ],
   "source": [
    "net4 = Network(notebook=True, height='2000px', width='2200px', bgcolor='#000', select_menu=False, filter_menu=False, font_color='#FFF')\n",
    "\n",
    "\n",
    "tac_rad = 18000\n",
    "tech_rad = 2500\n",
    "subtech_rad = 300\n",
    "\n",
    "# Tactics\n",
    "prev = None\n",
    "tactic_coords = d.get_coords(tac_rad, x=0, y=0, minresults=len(d.attack.cfg.tactics_order)+1)\n",
    "\n",
    "tac_index = 0\n",
    "\n",
    "for tac in d.attack.hierarchical_index:\n",
    "    tac_x = tactic_coords[tac_index][0]\n",
    "    tac_y = tactic_coords[tac_index][1]\n",
    "    \n",
    "    net4.add_node(tac, physics=False, label=tac.replace('-', ' ').title(), x=tac_x, y=tac_y, **d.attack.cfg.graph['tactic'])\n",
    "    tac_index += 1\n",
    "    if prev:\n",
    "        net4.add_edge(prev, tac)\n",
    "    prev = tac\n",
    "    \n",
    "    # Techniques\n",
    "    tech_index = 0\n",
    "    technique_coords = d.get_coords(tech_rad, x=tac_x, y=tac_y, minresults=len(d.attack.hierarchical_index[tac])+1)\n",
    "    for tech in d.attack.hierarchical_index[tac]:\n",
    "        tech_x = technique_coords[tech_index][0]\n",
    "        tech_y = technique_coords[tech_index][1]\n",
    "        net4.add_node(tech, physics=False, label= d.attack.get_name_by_id(tech), x=tech_x, y=tech_y, **d.attack.cfg.graph['technique'])\n",
    "        tech_index += 1\n",
    "        net4.add_edge(tech, tac)\n",
    "        \n",
    "        \n",
    "        # Subtechniques\n",
    "        subtech_index = 0\n",
    "        subtechnique_coords = d.get_coords(subtech_rad, x=tech_x, y=tech_y, minresults=len(d.attack.hierarchical_index[tac][tech])+1)\n",
    "        for subtech in d.attack.hierarchical_index[tac][tech]:\n",
    "            subtech_x = subtechnique_coords[subtech_index][0]\n",
    "            subtech_y = subtechnique_coords[subtech_index][1]\n",
    "            net4.add_node(subtech, physics=False, label= d.attack.get_name_by_id(subtech), x=subtech_x, y=subtech_y, **d.attack.cfg.graph['subtechnique'])\n",
    "            subtech_index += 1\n",
    "            net4.add_edge(subtech, tech)\n",
    "\n",
    "tactic_circles = {}            \n",
    "for tac in d.attack.hierarchical_index:\n",
    "    tactic_circles.update({\n",
    "        tac: d.get_coords(tech_rad+500, x=net4.get_node(tac)['x'], y=net4.get_node(tac)['y'], minresults=100)\n",
    "    })\n",
    "    tactic_circles[tac].extend(d.get_coords(tech_rad+800, x=net4.get_node(tac)['x'], y=net4.get_node(tac)['y'], minresults=150))\n",
    "    tactic_circles[tac].extend(d.get_coords(tech_rad+1100, x=net4.get_node(tac)['x'], y=net4.get_node(tac)['y'], minresults=200))\n",
    "    tactic_circles[tac].extend(d.get_coords(tech_rad+1400, x=net4.get_node(tac)['x'], y=net4.get_node(tac)['y'], minresults=250))\n",
    "    tactic_circles[tac].extend(d.get_coords(tech_rad+1700, x=net4.get_node(tac)['x'], y=net4.get_node(tac)['y'], minresults=300))\n",
    "            \n",
    "        \n"
   ]
  },
  {
   "cell_type": "code",
   "execution_count": null,
   "id": "f049ec79-5ca4-459e-840b-45628a0a9aab",
   "metadata": {
    "tags": []
   },
   "outputs": [],
   "source": [
    "taken = []\n",
    "for rule in s.rules:\n",
    "    for tech in rule.techniques:\n",
    "        tac = d.attack.find_tactic_in_hierarchical_index(tech)\n",
    "        \n",
    "        tech_pos = (net4.get_node(tech)['x'],net4.get_node(tech)['y'])\n",
    "        circle = tactic_circles[tac]\n",
    "        closest_pos = d.find_closest_point(tech_pos, circle, taken)\n",
    "        if closest_pos:\n",
    "            net4.add_node(rule.id+tech, label=rule.title, color=d.attack.cfg.graph['severity_colors'][rule.severity], physics=False, x=closest_pos[0], y=closest_pos[1])\n",
    "            net4.add_edge(rule.id+tech, tech)\n",
    "            taken.append(closest_pos)\n",
    "            \n",
    "#net4.show('test4.html')"
   ]
  },
  {
   "cell_type": "code",
   "execution_count": 11,
   "id": "72cf49b5-c581-465b-86d6-4426f9fe54c3",
   "metadata": {
    "tags": []
   },
   "outputs": [
    {
     "name": "stdout",
     "output_type": "stream",
     "text": [
      "test4.html\n"
     ]
    },
    {
     "data": {
      "text/html": [
       "\n",
       "        <iframe\n",
       "            width=\"2200px\"\n",
       "            height=\"2000px\"\n",
       "            src=\"test4.html\"\n",
       "            frameborder=\"0\"\n",
       "            allowfullscreen\n",
       "            \n",
       "        ></iframe>\n",
       "        "
      ],
      "text/plain": [
       "<IPython.lib.display.IFrame at 0x7f6dd76afed0>"
      ]
     },
     "execution_count": 11,
     "metadata": {},
     "output_type": "execute_result"
    }
   ],
   "source": [
    "taken = []\n",
    "for rule in s.rules:\n",
    "    for tech in rule.techniques:\n",
    "        tac = d.attack.find_tactic_in_hierarchical_index(tech)\n",
    "        \n",
    "        tech_pos = (net4.get_node(tech)['x'],net4.get_node(tech)['y'])\n",
    "        circle = tactic_circles[tac]\n",
    "        closest_pos = find_closest_point(tech_pos, circle, taken)\n",
    "        if closest_pos:\n",
    "            net4.add_node(rule.id+tech, label=rule.title, color=d.attack.cfg.graph['severity_colors'][rule.severity], physics=False, x=closest_pos[0], y=closest_pos[1])\n",
    "            net4.add_edge(rule.id+tech, tech)\n",
    "            taken.append(closest_pos)\n",
    "            \n",
    "#net4.show('test4.html')"
   ]
  },
  {
   "cell_type": "code",
   "execution_count": null,
   "id": "98f8564d-1e9d-4b33-8288-1a80d4d0140d",
   "metadata": {},
   "outputs": [],
   "source": []
  },
  {
   "cell_type": "code",
   "execution_count": 9,
   "id": "b9457753-1f6d-4f85-b50e-853cb4a73645",
   "metadata": {
    "tags": []
   },
   "outputs": [],
   "source": [
    "def draw_circular_attack_graph(net, tactic_radius, tech_radius, subtech_radius, connect_tactics = False):\n",
    "    \n",
    "    tactic_coords = d.get_coords(tactic_radius, \n",
    "                                 x = 0, y = 0, \n",
    "                                 minresults = len(d.attack.cfg.tactics_order)+1)\n",
    "    \n",
    "    prev = None\n",
    "    tac_index = 0\n",
    "    \n",
    "    for tac in d.attack.hierarchical_index:\n",
    "        tac_x = tactic_coords[tac_index][0]\n",
    "        tac_y = tactic_coords[tac_index][1]\n",
    "\n",
    "        net.add_node(tac, \n",
    "                     physics = False, \n",
    "                     label = tac.replace('-', ' ').title(), \n",
    "                     x = tac_x, y = tac_y, \n",
    "                     **d.attack.cfg.graph['tactic'])\n",
    "        \n",
    "        # Replace previous node\n",
    "        tac_index += 1\n",
    "        if prev:\n",
    "            net.add_edge(prev, tac)\n",
    "        prev = tac\n",
    "    \n",
    "        # Techniques\n",
    "        tech_index = 0\n",
    "        technique_coords = d.get_coords(tech_radius, \n",
    "                                        x=tac_x, y=tac_y, \n",
    "                                        minresults=len(d.attack.hierarchical_index[tac])+1)\n",
    "        \n",
    "        for tech in d.attack.hierarchical_index[tac]:\n",
    "            tech_x = technique_coords[tech_index][0]\n",
    "            tech_y = technique_coords[tech_index][1]\n",
    "            net.add_node(tech, \n",
    "                         physics = False, \n",
    "                         label = d.attack.get_name_by_id(tech), \n",
    "                         x=tech_x, y=tech_y, \n",
    "                         **d.attack.cfg.graph['technique'])\n",
    "            \n",
    "            tech_index += 1\n",
    "            net.add_edge(tech, tac, color='#333')\n",
    "\n",
    "\n",
    "            # Subtechniques\n",
    "            subtech_index = 0\n",
    "            subtechnique_coords = d.get_coords(subtech_radius, \n",
    "                                               x = tech_x, y = tech_y, \n",
    "                                               minresults = len(d.attack.hierarchical_index[tac][tech])+1)\n",
    "            \n",
    "            for subtech in d.attack.hierarchical_index[tac][tech]:\n",
    "                subtech_x = subtechnique_coords[subtech_index][0]\n",
    "                subtech_y = subtechnique_coords[subtech_index][1]\n",
    "                net.add_node(subtech, \n",
    "                             physics = True, \n",
    "                             label = d.attack.get_name_by_id(subtech), \n",
    "                             x = subtech_x, \n",
    "                             y = subtech_y, \n",
    "                             **d.attack.cfg.graph['subtechnique'])\n",
    "                \n",
    "                subtech_index += 1\n",
    "                net.add_edge(subtech, tech)\n",
    "    return net\n",
    "    \n",
    "def generate_defense_circles(net, radius, number_of_defense_circles, nodes_per_circle, increment_per_circle, circle_distance):\n",
    "    circles = number_of_defense_circles\n",
    "    node_count = nodes_per_circle\n",
    "    increment = increment_per_circle\n",
    "    dist = circle_distance\n",
    "    \n",
    "    tactic_circles = {}            \n",
    "    for tac in d.attack.hierarchical_index: # remove this to rely on single while loop update({tac: []})\n",
    "        tactic_circles.update({\n",
    "            tac: d.get_coords(radius, \n",
    "                              x = net.get_node(tac)['x'], \n",
    "                              y = net.get_node(tac)['y'], \n",
    "                              minresults = node_count)\n",
    "        })\n",
    "        \n",
    "        tmp_node_count = node_count + increment\n",
    "        tmp_circles = circles\n",
    "        tmp_radius = radius + dist\n",
    "        while tmp_circles  > 0:\n",
    "            tactic_circles[tac].extend(\n",
    "                d.get_coords(tmp_radius+dist, \n",
    "                             x=net.get_node(tac)['x'], \n",
    "                             y=net.get_node(tac)['y'], \n",
    "                             minresults=node_count)\n",
    "            )\n",
    "            node_count += increment_per_circle\n",
    "            tmp_radius += dist\n",
    "            tmp_circles -= 1\n",
    "    \n",
    "    return tactic_circles"
   ]
  },
  {
   "cell_type": "code",
   "execution_count": 6,
   "id": "bd85303c-106f-47a2-87af-a652dae960b8",
   "metadata": {
    "tags": []
   },
   "outputs": [],
   "source": [
    "d.ge\n"
   ]
  },
  {
   "cell_type": "code",
   "execution_count": 13,
   "id": "ce35b587-685d-44e2-bc34-4684b7777754",
   "metadata": {
    "tags": []
   },
   "outputs": [
    {
     "name": "stdout",
     "output_type": "stream",
     "text": [
      "Warning: When  cdn_resources is 'local' jupyter notebook has issues displaying graphics on chrome/safari. Use cdn_resources='in_line' or cdn_resources='remote' if you have issues viewing graphics in a notebook.\n",
      "test5.html\n"
     ]
    },
    {
     "data": {
      "text/html": [
       "\n",
       "        <iframe\n",
       "            width=\"2200px\"\n",
       "            height=\"2000px\"\n",
       "            src=\"test5.html\"\n",
       "            frameborder=\"0\"\n",
       "            allowfullscreen\n",
       "            \n",
       "        ></iframe>\n",
       "        "
      ],
      "text/plain": [
       "<IPython.lib.display.IFrame at 0x7f6e01e1c190>"
      ]
     },
     "execution_count": 13,
     "metadata": {},
     "output_type": "execute_result"
    }
   ],
   "source": [
    "net5 = Network(notebook=True, height='2000px', width='2200px', bgcolor='#000', select_menu=False, filter_menu=False, font_color='#FFF')\n",
    "\n",
    "\n",
    "tac_rad = 18000\n",
    "tech_rad = 2500\n",
    "subtech_rad = 300\n",
    "\n",
    "# Tactics\n",
    "prev = None\n",
    "tactic_coords = [\n",
    "    (0,0), (0,1000)\n",
    "]\n",
    "\n",
    "tac_index = 0\n",
    "\n",
    "net5.add_node('initial-access', physics=False, label=tac.replace('-', ' ').title(), x=tactic_coords[0][0], y=tactic_coords[0][1], **d.attack.cfg.graph['tactic'])\n",
    "net5.add_node('execution', physics=False, label=tac.replace('-', ' ').title(), x=tactic_coords[1][0], y=tactic_coords[1][1], **d.attack.cfg.graph['tactic'])\n",
    "\n",
    "net5.show('test5.html')"
   ]
  },
  {
   "cell_type": "code",
   "execution_count": 16,
   "id": "f6b8354f-97d8-48cc-859b-dec17955dea3",
   "metadata": {
    "tags": []
   },
   "outputs": [
    {
     "name": "stdout",
     "output_type": "stream",
     "text": [
      "Warning: When  cdn_resources is 'local' jupyter notebook has issues displaying graphics on chrome/safari. Use cdn_resources='in_line' or cdn_resources='remote' if you have issues viewing graphics in a notebook.\n",
      "test5.html\n"
     ]
    },
    {
     "data": {
      "text/html": [
       "\n",
       "        <iframe\n",
       "            width=\"2200px\"\n",
       "            height=\"2000px\"\n",
       "            src=\"test5.html\"\n",
       "            frameborder=\"0\"\n",
       "            allowfullscreen\n",
       "            \n",
       "        ></iframe>\n",
       "        "
      ],
      "text/plain": [
       "<IPython.lib.display.IFrame at 0x2421770fcd0>"
      ]
     },
     "execution_count": 16,
     "metadata": {},
     "output_type": "execute_result"
    }
   ],
   "source": [
    "net5 = Network(notebook=True, height='2000px', width='2200px', bgcolor='#000', select_menu=False, filter_menu=False, font_color='#FFF')\n",
    "\n",
    "tac_rad = 18000\n",
    "tech_rad = 3500\n",
    "subtech_rad = 300\n",
    "\n",
    "index = 0\n",
    "coords = d.get_tactics_line_coordinates(distance=10000)\n",
    "\n",
    "label_index = {\n",
    "    \"reconnaissance\": \"RECON\",\n",
    "    \"resource-development\": \"RDEV\" ,\n",
    "    \"initial-access\": \"INIT\",\n",
    "    \"execution\": \"EXEC\",\n",
    "    \"persistence\": \"PERS\",\n",
    "    \"privilege-escalation\": \"PESC\",\n",
    "    \"defense-evasion\": \"EVAS\",\n",
    "    \"credential-access\": \"CRED\",\n",
    "    \"discovery\": \"DISC\",\n",
    "    \"lateral-movement\": \"LATMO\",\n",
    "    \"collection\": \"COLL\",\n",
    "    \"command-and-control\": \"C&C\",\n",
    "    \"exfiltration\": \"EXFIL\",\n",
    "    \"impact\": \"IMP\"\n",
    "}\n",
    "\n",
    "\n",
    "for tac in d.attack.hierarchical_index:\n",
    "    tac_x = coords[index][0]\n",
    "    tac_y = coords[index][1]\n",
    "    \n",
    "    net5.add_node(tac, physics=False, label=tac.replace('-', ' ').title(), x=tac_x, y=tac_y, **d.attack.cfg.graph['tactic'])\n",
    "    index+=1\n",
    "    \n",
    "    node_data = net5.get_node(tac)\n",
    "    node_data.update({\"font\": {\"size\": 500, \"color\": \"#CCC\"}})\n",
    "    \n",
    "    # Techniques\n",
    "    tech_index = 0\n",
    "    technique_coords = d.get_coords(tech_rad, x=tac_x, y=tac_y, minresults=len(d.attack.hierarchical_index[tac])+1)\n",
    "    for tech in d.attack.hierarchical_index[tac]:\n",
    "        tech_x = technique_coords[tech_index][0]\n",
    "        tech_y = technique_coords[tech_index][1]\n",
    "        net5.add_node(tech, physics=False, label= d.attack.get_name_by_id(tech), x=tech_x, y=tech_y, **d.attack.cfg.graph['technique'])\n",
    "        tech_index += 1\n",
    "        net5.add_edge(tech, tac)\n",
    "        \n",
    "        \n",
    "        # Subtechniques\n",
    "        subtech_index = 0\n",
    "        subtechnique_coords = d.get_coords(subtech_rad, x=tech_x, y=tech_y, minresults=len(d.attack.hierarchical_index[tac][tech])+1)\n",
    "        for subtech in d.attack.hierarchical_index[tac][tech]:\n",
    "            subtech_x = subtechnique_coords[subtech_index][0]\n",
    "            subtech_y = subtechnique_coords[subtech_index][1]\n",
    "            net5.add_node(subtech, physics=False, label= d.attack.get_name_by_id(subtech), x=subtech_x, y=subtech_y, **d.attack.cfg.graph['subtechnique'])\n",
    "            subtech_index += 1\n",
    "            net5.add_edge(subtech, tech)\n",
    "            \n",
    "tactic_circles = generate_defense_circles(net5, 3900, 8, 100, 1, 100)\n",
    "\n",
    "\n",
    "\n",
    "\n",
    "taken = []\n",
    "\n",
    "# Add severity iteration so that highest severity rules are the closest\n",
    "\n",
    "# for rule in s.rules:\n",
    "#     for tech in rule.techniques:\n",
    "#         tac = d.attack.find_tactic_in_hierarchical_index(tech)\n",
    "        \n",
    "#         tech_pos = (net5.get_node(tech)['x'],net5.get_node(tech)['y'])\n",
    "#         circle = tactic_circles[tac]\n",
    "#         closest_pos = d.find_closest_point(tech_pos, circle, taken)\n",
    "#         if closest_pos:\n",
    "#             net5.add_node(rule.id+tech, label=rule.title, color=d.attack.cfg.graph['severity_colors'][rule.severity], physics=False, x=closest_pos[0], y=closest_pos[1])\n",
    "#             net5.add_edge(rule.id+tech, tech)\n",
    "#             taken.append(closest_pos)       \n",
    "        \n",
    "\n",
    "net5.show('test5.html')"
   ]
  },
  {
   "cell_type": "code",
   "execution_count": 40,
   "id": "01c439d2-cc0d-4850-bf6d-558311e86458",
   "metadata": {
    "tags": []
   },
   "outputs": [
    {
     "data": {
      "text/plain": [
       "126"
      ]
     },
     "execution_count": 40,
     "metadata": {},
     "output_type": "execute_result"
    }
   ],
   "source": [
    "len(tactic_circles['execution'])"
   ]
  },
  {
   "cell_type": "code",
   "execution_count": 82,
   "id": "ffc4d872-cafe-411a-9d14-503dc872e5d6",
   "metadata": {
    "tags": []
   },
   "outputs": [
    {
     "data": {
      "text/plain": [
       "{'color': '#C00',\n",
       " 'physics': False,\n",
       " 'x': 20000,\n",
       " 'y': 10000,\n",
       " 'mass': 100,\n",
       " 'size': 100,\n",
       " 'id': 'execution',\n",
       " 'label': 'Execution',\n",
       " 'shape': 'dot',\n",
       " 'font': {'color': '#FFF'}}"
      ]
     },
     "execution_count": 82,
     "metadata": {},
     "output_type": "execute_result"
    }
   ],
   "source": []
  },
  {
   "cell_type": "code",
   "execution_count": 12,
   "id": "796d4ab0-65e1-4c3a-bea8-d8b53e0d7d30",
   "metadata": {
    "tags": []
   },
   "outputs": [
    {
     "name": "stdout",
     "output_type": "stream",
     "text": [
      "reconnaissance\n",
      "resource-development\n",
      "initial-access\n",
      "execution\n",
      "persistence\n",
      "privilege-escalation\n",
      "defense-evasion\n",
      "credential-access\n",
      "discovery\n",
      "lateral-movement\n",
      "collection\n",
      "command-and-control\n",
      "exfiltration\n",
      "impact\n"
     ]
    }
   ],
   "source": [
    "for tac in d.attack.hierarchical_index:\n",
    "    print(tac)"
   ]
  },
  {
   "cell_type": "code",
   "execution_count": 79,
   "id": "2ebdac71-bda8-4d84-b322-5bd0aa5d8e97",
   "metadata": {
    "tags": []
   },
   "outputs": [],
   "source": []
  },
  {
   "cell_type": "code",
   "execution_count": null,
   "id": "1daff9e9-d90c-44a1-a36b-d581fea2ffc3",
   "metadata": {},
   "outputs": [],
   "source": []
  }
 ],
 "metadata": {
  "kernelspec": {
   "display_name": "Python 3 (ipykernel)",
   "language": "python",
   "name": "python3"
  },
  "language_info": {
   "codemirror_mode": {
    "name": "ipython",
    "version": 3
   },
   "file_extension": ".py",
   "mimetype": "text/x-python",
   "name": "python",
   "nbconvert_exporter": "python",
   "pygments_lexer": "ipython3",
   "version": "3.11.5"
  }
 },
 "nbformat": 4,
 "nbformat_minor": 5
}
