{
 "cells": [
  {
   "cell_type": "code",
   "execution_count": 1,
   "id": "2a805d81-736d-4625-8a7d-fbf39d755160",
   "metadata": {
    "tags": []
   },
   "outputs": [],
   "source": [
    "import math\n",
    "from os import path, walk\n",
    "from json import dumps, loads\n",
    "from pyvis.network import Network\n",
    "from dataclasses import dataclass, field\n",
    "\n",
    "from attack import Attack\n",
    "from defend import DTechnique, DSystem, Defend\n",
    "from sigma import Sigma, SigmaRule\n",
    "from types import SimpleNamespace"
   ]
  },
  {
   "cell_type": "code",
   "execution_count": 2,
   "id": "16e3903d-955f-4f79-a689-4ac51c44340d",
   "metadata": {
    "tags": []
   },
   "outputs": [],
   "source": [
    "d = Defend(Attack(local=True))\n",
    "s = Sigma()\n",
    "\n",
    "gconf = SimpleNamespace(**d.attack.cfg.graph)"
   ]
  },
  {
   "cell_type": "code",
   "execution_count": null,
   "id": "488bc44c-0008-4f62-93cf-fe1098cd8c94",
   "metadata": {
    "tags": []
   },
   "outputs": [],
   "source": []
  },
  {
   "cell_type": "code",
   "execution_count": 105,
   "id": "9f0e45b0-1556-4860-b6ec-5e10818e3953",
   "metadata": {
    "tags": []
   },
   "outputs": [
    {
     "name": "stdout",
     "output_type": "stream",
     "text": [
      "Warning: When  cdn_resources is 'local' jupyter notebook has issues displaying graphics on chrome/safari. Use cdn_resources='in_line' or cdn_resources='remote' if you have issues viewing graphics in a notebook.\n"
     ]
    }
   ],
   "source": [
    "Out = './Poligon'\n",
    "\n",
    "net = Network(notebook=True, height='2000px', width='2200px', bgcolor='#000', select_menu=False, filter_menu=False, font_color='#FFF')"
   ]
  },
  {
   "cell_type": "code",
   "execution_count": 106,
   "id": "c7f6ab1e-ef57-473d-8093-553db97c0769",
   "metadata": {
    "tags": []
   },
   "outputs": [],
   "source": [
    "# Tactics\n",
    "prev = None\n",
    "for tac in d.attack.cfg.tactics_order:\n",
    "    net.add_node(tac, phyisics=False,label=tac.replace('-', ' ').title(), **gconf.tactic)\n",
    "    if prev:\n",
    "        net.add_edge(prev, tac)\n",
    "        pass\n",
    "    prev = tac"
   ]
  },
  {
   "cell_type": "code",
   "execution_count": 107,
   "id": "e245b809-5bb5-4d36-beb7-181f32798237",
   "metadata": {
    "tags": []
   },
   "outputs": [],
   "source": [
    "for tech in d.attack.techniques:\n",
    "    tac = d.attack.techniques[tech].tactics[0]\n",
    "    \n",
    "    parent = d.attack.techniques[tech].get_parent()\n",
    "    \n",
    "    if parent and parent not in net.node_ids:\n",
    "        parent_tac = d.attack.techniques[parent].tactics[0]\n",
    "        net.add_node(parent, label= d.attack.get_name_by_id(parent), **gconf.technique)\n",
    "        #net.add_node(parent, color=gconf.technique['color'], mass=gconf.technique['mass'])\n",
    "        net.add_edge(parent, parent_tac)\n",
    "    \n",
    "    if parent:\n",
    "        net.add_node(tech, label = d.attack.get_name_by_id(tech),  **gconf.subtechnique)\n",
    "        #net.add_node(tech, color=gconf.subtechnique['color'], mass=gconf.subtechnique['mass'])\n",
    "        net.add_edge(tech, parent)\n",
    "    else:\n",
    "        net.add_node(tech, label = d.attack.get_name_by_id(tech), **gconf.technique)\n",
    "        #net.add_node(tech, color=gconf.technique['color'], mass=gconf.technique['mass'])\n",
    "        net.add_edge(tech, tac)"
   ]
  },
  {
   "cell_type": "code",
   "execution_count": 49,
   "id": "337beb6c-2525-4b95-80df-c6b5a40e42db",
   "metadata": {
    "tags": []
   },
   "outputs": [
    {
     "data": {
      "text/plain": [
       "['defense-evasion', 'persistence']"
      ]
     },
     "execution_count": 49,
     "metadata": {},
     "output_type": "execute_result"
    }
   ],
   "source": [
    "d.attack.techniques['T1542'].tactics"
   ]
  },
  {
   "cell_type": "code",
   "execution_count": 109,
   "id": "4b98ca62-0b9c-4335-9b26-c052804fdd2f",
   "metadata": {
    "tags": []
   },
   "outputs": [
    {
     "name": "stdout",
     "output_type": "stream",
     "text": [
      "sigma_multinode_3_sev_Crit.html\n"
     ]
    },
    {
     "data": {
      "text/html": [
       "\n",
       "        <iframe\n",
       "            width=\"2200px\"\n",
       "            height=\"2000px\"\n",
       "            src=\"sigma_multinode_3_sev_Crit.html\"\n",
       "            frameborder=\"0\"\n",
       "            allowfullscreen\n",
       "            \n",
       "        ></iframe>\n",
       "        "
      ],
      "text/plain": [
       "<IPython.lib.display.IFrame at 0x1e7de038290>"
      ]
     },
     "execution_count": 109,
     "metadata": {},
     "output_type": "execute_result"
    }
   ],
   "source": [
    "#net.show_buttons()\n",
    "\n",
    "netcfg = \"\"\"{\n",
    "  \"edges\": {\n",
    "    \"color\": {\n",
    "      \"inherit\": true\n",
    "    },\n",
    "    \"selfReference\": {\n",
    "      \"angle\": 0.7853981633974483\n",
    "    },\n",
    "    \"smooth\": {\n",
    "      \"forceDirection\": \"none\"\n",
    "    }\n",
    "  },\n",
    "  \"physics\": {\n",
    "    \"barnesHut\": {\n",
    "      \"centralGravity\": 0.8,\n",
    "      \"springLength\": 30,\n",
    "      \"damping\": 0.21,\n",
    "      \"avoidOverlap\": 0.13\n",
    "    },\n",
    "    \"minVelocity\": 0.75,\n",
    "    \"timestep\": 1\n",
    "  }\n",
    "}\"\"\"\n",
    "net.set_options(netcfg)\n",
    "net.show('sigma_multinode_3_sev_Crit.html')"
   ]
  },
  {
   "cell_type": "code",
   "execution_count": 189,
   "id": "6c00d8d6-5727-4ab2-b4d5-e98b8eba36b8",
   "metadata": {
    "tags": []
   },
   "outputs": [
    {
     "name": "stdout",
     "output_type": "stream",
     "text": [
      "Warning: When  cdn_resources is 'local' jupyter notebook has issues displaying graphics on chrome/safari. Use cdn_resources='in_line' or cdn_resources='remote' if you have issues viewing graphics in a notebook.\n",
      "test.html\n"
     ]
    },
    {
     "data": {
      "text/html": [
       "\n",
       "        <iframe\n",
       "            width=\"2200px\"\n",
       "            height=\"2000px\"\n",
       "            src=\"test.html\"\n",
       "            frameborder=\"0\"\n",
       "            allowfullscreen\n",
       "            \n",
       "        ></iframe>\n",
       "        "
      ],
      "text/plain": [
       "<IPython.lib.display.IFrame at 0x1e7de4f3b10>"
      ]
     },
     "execution_count": 189,
     "metadata": {},
     "output_type": "execute_result"
    }
   ],
   "source": [
    "\n",
    "net2 = Network(notebook=True, height='2000px', width='2200px', bgcolor='#000', select_menu=False, filter_menu=False, font_color='#FFF')\n",
    "net2.add_node('A', physics=False)\n",
    "\n",
    "net2.add_node('B', physics=False)\n",
    "net2.add_node('B1', physics=True)\n",
    "net2.add_node('B2', physics=True)\n",
    "net2.add_node('C', physics=False)\n",
    "net2.add_node('C1', physics=True)\n",
    "net2.add_node('C2', physics=True)\n",
    "net2.add_node('D', physics=False)\n",
    "net2.add_edge('A', 'B', physics=False)\n",
    "net2.add_edge('C1', 'A', physics=True)\n",
    "net2.add_edge('C1', 'B', physics=True)\n",
    "net2.add_edge('C1', 'D', physics=True)\n",
    "net2.add_edge('D', 'C2', physics=True)\n",
    "\n",
    "index = 0\n",
    "result =  get_coords(radius=50000, x=0, y=0, minresults=15)\n",
    "for pos in result:\n",
    "    net2.add_node(index, x=pos[0], y=pos[1], physics=False)\n",
    "    index +=1\n",
    "    \n",
    "    level2_result = get_coords(radius=3000, x = pos[0], y=pos[1], minresults=12)\n",
    "    #print(level2_result)\n",
    "    index2 = 0\n",
    "    for pos2 in level2_result:\n",
    "        net2.add_node(str(index)+\"-\"+str(index2), x=pos2[0], y=pos2[1], physics=False)\n",
    "        index2 += 1\n",
    "    \n",
    "    \n",
    "net2.show('test.html')"
   ]
  },
  {
   "cell_type": "code",
   "execution_count": null,
   "id": "995fec15-d46d-46ff-89fd-c09ae04a1218",
   "metadata": {
    "tags": []
   },
   "outputs": [],
   "source": []
  },
  {
   "cell_type": "code",
   "execution_count": null,
   "id": "74f807a2-6a79-401b-aef1-bf68939c5802",
   "metadata": {
    "tags": []
   },
   "outputs": [],
   "source": []
  },
  {
   "cell_type": "code",
   "execution_count": null,
   "id": "e33c9aa2-427e-45c8-bd34-e243a4cd6cbf",
   "metadata": {
    "tags": []
   },
   "outputs": [],
   "source": []
  },
  {
   "cell_type": "code",
   "execution_count": null,
   "id": "f61c77ed-641d-4c17-bb5c-60c1ab26814f",
   "metadata": {
    "tags": []
   },
   "outputs": [],
   "source": []
  },
  {
   "cell_type": "code",
   "execution_count": null,
   "id": "9e2ad56b-b74e-4e4c-b377-b2d46ba3cd2d",
   "metadata": {
    "tags": []
   },
   "outputs": [],
   "source": []
  },
  {
   "cell_type": "code",
   "execution_count": null,
   "id": "2df0dd9c-9278-4e97-a6c0-66ff844020e2",
   "metadata": {
    "tags": []
   },
   "outputs": [],
   "source": []
  },
  {
   "cell_type": "code",
   "execution_count": 204,
   "id": "b7299f3e-da41-4bc1-be19-cc814fb8aaf4",
   "metadata": {
    "tags": []
   },
   "outputs": [
    {
     "name": "stdout",
     "output_type": "stream",
     "text": [
      "Warning: When  cdn_resources is 'local' jupyter notebook has issues displaying graphics on chrome/safari. Use cdn_resources='in_line' or cdn_resources='remote' if you have issues viewing graphics in a notebook.\n",
      "15\n",
      "14\n",
      "{'execution': 15, 'collection': 16, 'persistence': 14, 'credential-access': 16, 'discovery': 28, 'resource-development': 8, 'reconnaissance': 10, 'defense-evasion': 42, 'impact': 13, 'lateral-movement': 9, 'command-and-control': 17, 'initial-access': 6, 'exfiltration': 9, 'privilege-escalation': 4}\n",
      "test2.html\n"
     ]
    },
    {
     "data": {
      "text/html": [
       "\n",
       "        <iframe\n",
       "            width=\"2200px\"\n",
       "            height=\"2000px\"\n",
       "            src=\"test2.html\"\n",
       "            frameborder=\"0\"\n",
       "            allowfullscreen\n",
       "            \n",
       "        ></iframe>\n",
       "        "
      ],
      "text/plain": [
       "<IPython.lib.display.IFrame at 0x1e7e2a66a10>"
      ]
     },
     "execution_count": 204,
     "metadata": {},
     "output_type": "execute_result"
    }
   ],
   "source": [
    "net3 = Network(notebook=True, height='2000px', width='2200px', bgcolor='#000', select_menu=False, filter_menu=False, font_color='#FFF')\n",
    "\n",
    "# Tactics\n",
    "prev = None\n",
    "\n",
    "tactic_coords = get_coords(20000, x=0, y=0, minresults=len(d.attack.cfg.tactics_order)+1)\n",
    "print(len(tactic_coords))\n",
    "print(len(d.attack.cfg.tactics_order))\n",
    "tac_index = 0\n",
    "\n",
    "for tac in d.attack.cfg.tactics_order:\n",
    "    net3.add_node(tac, physics=False, label=tac.replace('-', ' ').title(), x=tactic_coords[tac_index][0], y=tactic_coords[tac_index][1], **gconf.tactic)\n",
    "    tac_index += 1\n",
    "    if prev:\n",
    "        net3.add_edge(prev, tac)\n",
    "        pass\n",
    "    prev = tac\n",
    "    \n",
    "# Techniques\n",
    "\n",
    "for tac in full_index:\n",
    "    \n",
    "\n",
    "\n",
    "# for tech in d.attack.techniques:\n",
    "#     tac = d.attack.techniques[tech].tactics[0]\n",
    "    \n",
    "#     parent = d.attack.techniques[tech].get_parent()\n",
    "    \n",
    "#     if parent and parent not in net3.node_ids:\n",
    "#         parent_tac = d.attack.techniques[parent].tactics[0]\n",
    "#         net3.add_node(parent, label= d.attack.get_name_by_id(parent), physics=False, **gconf.technique)\n",
    "#         #net.add_node(parent, color=gconf.technique['color'], mass=gconf.technique['mass'])\n",
    "#         net3.add_edge(parent, parent_tac)\n",
    "    \n",
    "#     if parent:\n",
    "#         net3.add_node(tech, label = d.attack.get_name_by_id(tech),  **gconf.subtechnique)\n",
    "#         #net.add_node(tech, color=gconf.subtechnique['color'], mass=gconf.subtechnique['mass'])\n",
    "#         net3.add_edge(tech, parent)\n",
    "#     else:\n",
    "#         net3.add_node(tech, label = d.attack.get_name_by_id(tech),physics=False, **gconf.technique)\n",
    "#         #net.add_node(tech, color=gconf.technique['color'], mass=gconf.technique['mass'])\n",
    "#         net3.add_edge(tech, tac)\n",
    "\n",
    "    \n",
    "net3.show('test2.html')"
   ]
  },
  {
   "cell_type": "code",
   "execution_count": null,
   "id": "4085e31e-c90d-4f0c-aadf-ba5ad23d9a78",
   "metadata": {
    "tags": []
   },
   "outputs": [],
   "source": []
  },
  {
   "cell_type": "code",
   "execution_count": 8,
   "id": "1d2c0c1e-0161-4a09-bead-05dc9c94241d",
   "metadata": {
    "tags": []
   },
   "outputs": [
    {
     "data": {
      "text/plain": [
       "{'tactic': {'mass': 100, 'size': 100, 'color': '#C00'},\n",
       " 'technique': {'mass': 50, 'size': 50, 'color': '#C77'},\n",
       " 'subtechnique': {'mass': 5, 'size': 20, 'color': '#A66'},\n",
       " 'severity_colors': {'critical': '#E76EFA',\n",
       "  'high': '#AB62DE',\n",
       "  'medium': '#9E77F5',\n",
       "  'low': '#6762DE',\n",
       "  'informational': '#FFF'}}"
      ]
     },
     "execution_count": 8,
     "metadata": {},
     "output_type": "execute_result"
    }
   ],
   "source": [
    "d.attack.cfg.graph"
   ]
  },
  {
   "cell_type": "code",
   "execution_count": 10,
   "id": "37bea5eb-c5b6-48ea-a1f8-e793f8de3458",
   "metadata": {
    "tags": []
   },
   "outputs": [
    {
     "name": "stdout",
     "output_type": "stream",
     "text": [
      "Warning: When  cdn_resources is 'local' jupyter notebook has issues displaying graphics on chrome/safari. Use cdn_resources='in_line' or cdn_resources='remote' if you have issues viewing graphics in a notebook.\n"
     ]
    }
   ],
   "source": [
    "net4 = Network(notebook=True, height='2000px', width='2200px', bgcolor='#000', select_menu=False, filter_menu=False, font_color='#FFF')\n",
    "\n",
    "d.attack.cfg.graph\n",
    "\n",
    "tac_rad = 18000\n",
    "tech_rad = 2500\n",
    "subtech_rad = 300\n",
    "\n",
    "# Tactics\n",
    "prev = None\n",
    "tactic_coords = d.get_coords(tac_rad, x=0, y=0, minresults=len(d.attack.cfg.tactics_order)+1)\n",
    "\n",
    "tac_index = 0\n",
    "\n",
    "for tac in d.attack.hierarchical_index:\n",
    "    tac_x = tactic_coords[tac_index][0]\n",
    "    tac_y = tactic_coords[tac_index][1]\n",
    "    \n",
    "    net4.add_node(tac, physics=False, label=tac.replace('-', ' ').title(), x=tac_x, y=tac_y, **d.attack.cfg.graph['tactic'])\n",
    "    tac_index += 1\n",
    "    if prev:\n",
    "        net4.add_edge(prev, tac)\n",
    "    prev = tac\n",
    "    \n",
    "    # Techniques\n",
    "    tech_index = 0\n",
    "    technique_coords = d.get_coords(tech_rad, x=tac_x, y=tac_y, minresults=len(d.attack.hierarchical_index[tac])+1)\n",
    "    for tech in d.attack.hierarchical_index[tac]:\n",
    "        tech_x = technique_coords[tech_index][0]\n",
    "        tech_y = technique_coords[tech_index][1]\n",
    "        net4.add_node(tech, physics=False, label= d.attack.get_name_by_id(tech), x=tech_x, y=tech_y, **d.attack.cfg.graph['technique'])\n",
    "        tech_index += 1\n",
    "        net4.add_edge(tech, tac)\n",
    "        \n",
    "        \n",
    "        # Subtechniques\n",
    "        subtech_index = 0\n",
    "        subtechnique_coords = d.get_coords(subtech_rad, x=tech_x, y=tech_y, minresults=len(d.attack.hierarchical_index[tac][tech])+1)\n",
    "        for subtech in d.attack.hierarchical_index[tac][tech]:\n",
    "            subtech_x = subtechnique_coords[subtech_index][0]\n",
    "            subtech_y = subtechnique_coords[subtech_index][1]\n",
    "            net4.add_node(subtech, physics=False, label= d.attack.get_name_by_id(subtech), x=subtech_x, y=subtech_y, **d.attack.cfg.graph['subtechnique'])\n",
    "            subtech_index += 1\n",
    "            net4.add_edge(subtech, tech)\n",
    "\n",
    "tactic_circles = {}            \n",
    "for tac in d.attack.hierarchical_index:\n",
    "    tactic_circles.update({\n",
    "        tac: d.get_coords(tech_rad+500, x=net4.get_node(tac)['x'], y=net4.get_node(tac)['y'], minresults=100)\n",
    "    })\n",
    "    tactic_circles[tac].extend(d.get_coords(tech_rad+800, x=net4.get_node(tac)['x'], y=net4.get_node(tac)['y'], minresults=150))\n",
    "    tactic_circles[tac].extend(d.get_coords(tech_rad+1100, x=net4.get_node(tac)['x'], y=net4.get_node(tac)['y'], minresults=200))\n",
    "    tactic_circles[tac].extend(d.get_coords(tech_rad+1400, x=net4.get_node(tac)['x'], y=net4.get_node(tac)['y'], minresults=250))\n",
    "    tactic_circles[tac].extend(d.get_coords(tech_rad+1700, x=net4.get_node(tac)['x'], y=net4.get_node(tac)['y'], minresults=300))\n",
    "            \n",
    "        \n"
   ]
  },
  {
   "cell_type": "code",
   "execution_count": null,
   "id": "f049ec79-5ca4-459e-840b-45628a0a9aab",
   "metadata": {
    "tags": []
   },
   "outputs": [],
   "source": []
  },
  {
   "cell_type": "code",
   "execution_count": 11,
   "id": "72cf49b5-c581-465b-86d6-4426f9fe54c3",
   "metadata": {
    "tags": []
   },
   "outputs": [
    {
     "name": "stdout",
     "output_type": "stream",
     "text": [
      "test4.html\n"
     ]
    },
    {
     "data": {
      "text/html": [
       "\n",
       "        <iframe\n",
       "            width=\"2200px\"\n",
       "            height=\"2000px\"\n",
       "            src=\"test4.html\"\n",
       "            frameborder=\"0\"\n",
       "            allowfullscreen\n",
       "            \n",
       "        ></iframe>\n",
       "        "
      ],
      "text/plain": [
       "<IPython.lib.display.IFrame at 0x7f6dd76afed0>"
      ]
     },
     "execution_count": 11,
     "metadata": {},
     "output_type": "execute_result"
    }
   ],
   "source": [
    "taken = []\n",
    "for rule in s.rules:\n",
    "    for tech in rule.techniques:\n",
    "        tac = d.attack.find_tactic_in_hierarchical_index(tech)\n",
    "        \n",
    "        tech_pos = (net4.get_node(tech)['x'],net4.get_node(tech)['y'])\n",
    "        circle = tactic_circles[tac]\n",
    "        closest_pos = find_closest_point(tech_pos, circle, taken)\n",
    "        if closest_pos:\n",
    "            net4.add_node(rule.id+tech, label=rule.title, color=d.attack.cfg.graph['severity_colors'][rule.severity], physics=False, x=closest_pos[0], y=closest_pos[1])\n",
    "            net4.add_edge(rule.id+tech, tech)\n",
    "            taken.append(closest_pos)\n",
    "            \n",
    "net4.show('test4.html')"
   ]
  },
  {
   "cell_type": "code",
   "execution_count": 8,
   "id": "b9457753-1f6d-4f85-b50e-853cb4a73645",
   "metadata": {
    "collapsed": true,
    "jupyter": {
     "outputs_hidden": true
    },
    "tags": []
   },
   "outputs": [
    {
     "data": {
      "text/plain": [
       "[(7367.158129738325, 17436.8718021299),\n",
       " (7361.9396955504035, 17610.76742092053),\n",
       " (7346.303173714479, 17784.037203268246),\n",
       " (7320.304838823748, 17956.057565065505),\n",
       " (7284.038256808981, 18126.209418769533),\n",
       " (7237.633948202225, 18293.880401448943),\n",
       " (7181.258918403824, 18458.467078629023),\n",
       " (7115.116056643327, 18619.3771160042),\n",
       " (7039.443405797354, 18776.031411201922),\n",
       " (6954.513305692293, 18927.8661779258),\n",
       " (6860.631412975023, 19074.334974977504),\n",
       " (6758.135601079048, 19214.910672854967),\n",
       " (6647.394744245002, 19349.08735084936),\n",
       " (6528.807389971712, 19476.38211781333),\n",
       " (6402.800324675591, 19596.336850047657),\n",
       " (6269.827037720403, 19708.519840051864),\n",
       " (6130.366089345271, 19812.52735020502),\n",
       " (5984.919388364595, 19907.98506578521),\n",
       " (5834.010385838321, 19994.549442098305),\n",
       " (5678.182191213376, 20071.908940867885),\n",
       " (5517.995617716158, 20139.785151436612),\n",
       " (5354.027164030515, 20197.933792743952),\n",
       " (5186.866939525039, 20246.145592474193),\n",
       " (5017.116540496569, 20284.2470402108),\n",
       " (4845.386885073178, 20312.10101188655),\n",
       " (4672.2960145686175, 20329.607263282087),\n",
       " (4498.466869200997, 20336.70279079687),\n",
       " (4324.525046180693, 20333.362058194096),\n",
       " (4151.096548235951, 20319.59708850358),\n",
       " (3978.8055306790716, 20295.45742075182),\n",
       " (3808.2720551212897, 20261.029931675013),\n",
       " (3640.109857920562, 20216.438523056608),\n",
       " (3474.924141393431, 20161.843675814685),\n",
       " (3313.3093957402293, 20097.441872443964),\n",
       " (3155.8472595223293, 20023.464889890973),\n",
       " (3003.1044263914146, 19940.17896540735),\n",
       " (2855.6306056042936, 19847.88383838323),\n",
       " (2713.956543663185, 19746.911671609127),\n",
       " (2578.592114201452, 19637.625855848575),\n",
       " (2450.024482989117, 19520.419702023788),\n",
       " (2328.716354662164, 19395.71502572109),\n",
       " (2215.1043074855143, 19263.96062911027),\n",
       " (2109.597222142716, 19125.63068574146),\n",
       " (2012.5748102070256, 18981.22303403238),\n",
       " (1924.3862475897813, 18831.25738558763),\n",
       " (1845.3489178841864, 18676.273454798145),\n",
       " (1775.7472701271085, 18516.82901645221),\n",
       " (1715.8317950897144, 18353.497898348545),\n",
       " (1665.8181237811896, 18186.86791613588),\n",
       " (1625.8862514099628, 18017.5387578114),\n",
       " (1596.1798895953234, 17846.119825491518),\n",
       " (1576.8059491607828, 17673.22804222236),\n",
       " (1567.834155370561, 17499.48563172298),\n",
       " (1569.2967969939282, 17325.51787905188),\n",
       " (1581.1886101005034, 17151.95088025606),\n",
       " (1603.4667970047199, 16979.409289101317),\n",
       " (1636.051180291278, 16808.51406899325),\n",
       " (1678.8244913672556, 16639.880258179557),\n",
       " (1731.6327925024125, 16474.11475627651),\n",
       " (1794.286030838783, 16311.814140085702),\n",
       " (1866.5587223757339, 16153.562516561788),\n",
       " (1948.1907634688723, 15999.929420658207),\n",
       " (2038.8883669222878, 15851.467765616384),\n",
       " (2138.3251193052047, 15708.711853075123),\n",
       " (2246.1431556878506, 15572.175450161685),\n",
       " (2361.954447568753, 15442.349940484939),\n",
       " (2485.342199358328, 15319.702555684999),\n",
       " (2615.862348392913, 15204.674693903864),\n",
       " (2753.0451630808293, 15097.68033122876),\n",
       " (2896.3969334288604, 14999.104531825276),\n",
       " (3045.4017478650867, 14909.302062122175),\n",
       " (3199.523349963427, 14828.59611403536),\n",
       " (3358.207068387682, 14757.27714182598),\n",
       " (3520.881813109375, 14695.60181677874),\n",
       " (3686.962130715149, 14643.792103462454),\n",
       " (3855.8503114068426, 14602.034460897285),\n",
       " (4026.9385401113127, 14570.479171503623),\n",
       " (4199.611083958336, 14549.239800247666),\n",
       " (4373.246508254032, 14538.392785930162),\n",
       " (4547.219912974692, 14537.977166089291),\n",
       " (4720.905181732051, 14547.994436507659),\n",
       " (4893.677235116163, 14568.408545829116),\n",
       " (5064.91428030627, 14599.146025304697),\n",
       " (5234.000048853505, 14640.096253200785),\n",
       " (5400.326014581814, 14691.111852917891),\n",
       " (5563.293583625062, 14752.009223387271),\n",
       " (5722.316248718547, 14822.569199836502),\n",
       " (5876.8216999918, 14902.537842545997),\n",
       " (6026.253884666103, 14991.627350757772),\n",
       " (6170.075008244019, 15089.517098447384),\n",
       " (6307.767469988843, 15195.854788231398),\n",
       " (6438.835725728306, 15310.25771925751),\n",
       " (6562.808071278476, 15432.314164514366),\n",
       " (6679.238340069438, 15561.584852604185),\n",
       " (6787.707508863145, 15697.60454864543),\n",
       " (6887.825205784587, 15839.883728615998),\n",
       " (6979.23111523898, 15987.910341111068),\n",
       " (7061.596274658827, 16141.151650175216),\n",
       " (7134.624258413913, 16299.056152576564),\n",
       " (7198.052244623477, 16461.055562622867),\n",
       " (7251.65196103117, 16626.566857376325),\n",
       " (7295.230506538672, 16794.994374906568),\n",
       " (7328.631045441336, 16965.731958030385),\n",
       " (7351.733371867366, 17138.16513582299),\n",
       " (7364.454342389147, 17311.67333504981)]"
      ]
     },
     "execution_count": 8,
     "metadata": {},
     "output_type": "execute_result"
    }
   ],
   "source": []
  },
  {
   "cell_type": "code",
   "execution_count": 6,
   "id": "bd85303c-106f-47a2-87af-a652dae960b8",
   "metadata": {
    "tags": []
   },
   "outputs": [],
   "source": [
    "\n"
   ]
  },
  {
   "cell_type": "code",
   "execution_count": null,
   "id": "ce35b587-685d-44e2-bc34-4684b7777754",
   "metadata": {},
   "outputs": [],
   "source": []
  },
  {
   "cell_type": "code",
   "execution_count": 61,
   "id": "f6b8354f-97d8-48cc-859b-dec17955dea3",
   "metadata": {
    "tags": []
   },
   "outputs": [
    {
     "data": {
      "text/plain": [
       "{'tactic': {'mass': 100, 'size': 100, 'color': '#C00'},\n",
       " 'technique': {'mass': 50, 'size': 50, 'color': '#C77'},\n",
       " 'subtechnique': {'mass': 5, 'size': 20, 'color': '#A66'},\n",
       " 'severity_colors': {'critical': '#E76EFA',\n",
       "  'high': '#AB62DE',\n",
       "  'medium': '#9E77F5',\n",
       "  'low': '#6762DE',\n",
       "  'informational': '#FFF'}}"
      ]
     },
     "execution_count": 61,
     "metadata": {},
     "output_type": "execute_result"
    }
   ],
   "source": []
  },
  {
   "cell_type": "code",
   "execution_count": null,
   "id": "01c439d2-cc0d-4850-bf6d-558311e86458",
   "metadata": {},
   "outputs": [],
   "source": []
  }
 ],
 "metadata": {
  "kernelspec": {
   "display_name": "Python 3 (ipykernel)",
   "language": "python",
   "name": "python3"
  },
  "language_info": {
   "codemirror_mode": {
    "name": "ipython",
    "version": 3
   },
   "file_extension": ".py",
   "mimetype": "text/x-python",
   "name": "python",
   "nbconvert_exporter": "python",
   "pygments_lexer": "ipython3",
   "version": "3.11.5"
  }
 },
 "nbformat": 4,
 "nbformat_minor": 5
}
